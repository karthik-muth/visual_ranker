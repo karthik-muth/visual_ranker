{
 "cells": [
  {
   "cell_type": "code",
   "execution_count": 1,
   "metadata": {},
   "outputs": [],
   "source": [
    "from github import Github\n",
    "import os\n",
    "import datetime\n",
    "import pandas as pd\n",
    "import numpy as np\n",
    "\n",
    "from dash import Dash, html, dcc, callback, Input, Output, State\n",
    "import plotly.express as px\n",
    "import plotly.graph_objects as go\n",
    "import plotly.io as pio\n",
    "pio.templates.default = \"plotly_white\"\n",
    "\n",
    "import dotenv\n",
    "# Reload the variables in your '.env' file (override the existing variables)\n",
    "dotenv.load_dotenv(\".env\", override=True)\n",
    "\n",
    "# Authentication is defined via github.Auth\n",
    "from github import Auth\n",
    "\n",
    "# using an access token\n",
    "auth = Auth.Token(os.getenv('GITHUB_ACCESS_TOKEN'))\n",
    "g = Github(auth=auth)\n",
    "\n",
    "def get_top_repo(topics):\n",
    "    page=0\n",
    "    top = 10\n",
    "\n",
    "    rows_list = []\n",
    "\n",
    "    if len(topics) > 1:\n",
    "        return\n",
    "    # for t in topics:\n",
    "\n",
    "    t = topics[0]\n",
    "    repositories = g.search_repositories(query=f'stars:>0 topic:{t} is:public', sort='stars', order='desc')\n",
    "    print(t, repositories.totalCount) # Not clear why it prints 1000 for totalCount and passes a differnt value in return\n",
    "    # pages of 30 items. We get the first page\n",
    "    page0 = repositories.get_page(page)\n",
    "\n",
    "    row = ()\n",
    "    for repo in page0:\n",
    "        row = (t, repo.name, repo.stargazers_count, repo.forks_count, repo.topics, repo.description, repo.language, repo.created_at.date())\n",
    "        rows_list.append(row)\n",
    "        df = pd.DataFrame(columns=['topic','repo', 'stars', 'forks', 'topics', 'description', 'language', 'created_at'], data = rows_list)\n",
    "\n",
    "    return df.head(top), repositories, repositories.totalCount"
   ]
  },
  {
   "cell_type": "code",
   "execution_count": null,
   "metadata": {},
   "outputs": [],
   "source": [
    "search_val = 'microsoft/semantic-kernel'\n",
    "search_repo = search_val.split('/')[1]\n",
    "topics = ['llm']"
   ]
  }
 ],
 "metadata": {
  "kernelspec": {
   "display_name": "Python 3",
   "language": "python",
   "name": "python3"
  },
  "language_info": {
   "codemirror_mode": {
    "name": "ipython",
    "version": 3
   },
   "file_extension": ".py",
   "mimetype": "text/x-python",
   "name": "python",
   "nbconvert_exporter": "python",
   "pygments_lexer": "ipython3",
   "version": "3.11.7"
  }
 },
 "nbformat": 4,
 "nbformat_minor": 2
}
