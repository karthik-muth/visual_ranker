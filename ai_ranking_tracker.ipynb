{
 "cells": [
  {
   "cell_type": "markdown",
   "metadata": {},
   "source": [
    "# Notes\n",
    "\n",
    "\n",
    "freeCodeCamp 1 rank stars:\t383,537\n",
    "\n",
    "\n",
    "1. search in multiple topics\n",
    "\n",
    "It is possible to search multiple topics using OR and IN. Eg:react OR angular OR python in:topics\n",
    "However, there is a limitation of 6 topics. While Github allows a repo to have 20 topics. Without the limitation, we could reduce the number of requests from n (number of topics) to 1. But there are exceptions.\n",
    "https://gist.github.com/usametov/af8f13a351a66fb05a9895f11417dd9d?permalink_comment_id=4696900#gistcomment-4696900\n",
    "\n",
    "\n",
    "2. Names can be very similar. So, the username is important\n",
    "\n",
    "Future improvements\n",
    "- I get 1000 repos. I could do with 10\n",
    "- Date format"
   ]
  },
  {
   "cell_type": "code",
   "execution_count": 2,
   "metadata": {},
   "outputs": [],
   "source": [
    "from github import Github\n",
    "import os\n",
    "import datetime\n",
    "import pandas as pd\n",
    "import numpy as np\n",
    "\n",
    "from dash import Dash, html, dcc, callback, Input, Output, State\n",
    "import plotly.express as px\n",
    "import plotly.graph_objects as go\n",
    "import plotly.io as pio\n",
    "pio.templates.default = \"plotly_white\"\n",
    "\n",
    "import dotenv\n",
    "# Reload the variables in your '.env' file (override the existing variables)\n",
    "dotenv.load_dotenv(\".env\", override=True)\n",
    "\n",
    "# Authentication is defined via github.Auth\n",
    "from github import Auth\n",
    "\n",
    "# using an access token\n",
    "auth = Auth.Token(os.getenv('GITHUB_ACCESS_TOKEN'))\n",
    "g = Github(auth=auth)\n",
    "\n",
    "def get_top_repo(topics):\n",
    "    page=0\n",
    "    top = 10\n",
    "\n",
    "    rows_list = []\n",
    "\n",
    "    if len(topics) > 1:\n",
    "        return\n",
    "    # for t in topics:\n",
    "\n",
    "    t = topics[0]\n",
    "    repositories = g.search_repositories(query=f'stars:>0 topic:{t} is:public', sort='stars', order='desc')\n",
    "    print(t, repositories.totalCount) # Not clear why it prints 1000 for totalCount and passes a differnt value in return\n",
    "    # pages of 30 items. We get the first page\n",
    "    page0 = repositories.get_page(page)\n",
    "\n",
    "    row = ()\n",
    "    for repo in page0:\n",
    "        row = (t, repo.name, repo.stargazers_count, repo.forks_count, repo.topics, repo.description, repo.language, repo.created_at.date())\n",
    "        rows_list.append(row)\n",
    "        df = pd.DataFrame(columns=['topic','repo', 'stars', 'forks', 'topics', 'description', 'language', 'created_at'], data = rows_list)\n",
    "\n",
    "    return df.head(top), repositories, repositories.totalCount"
   ]
  },
  {
   "cell_type": "code",
   "execution_count": 2,
   "metadata": {},
   "outputs": [],
   "source": [
    "\n",
    "\n",
    "# First create a Github instance:\n",
    "\n",
    "# Public Web Github\n",
    "\n",
    "# Github Enterprise with custom hostname\n",
    "# g = Github(base_url=\"https://github.com/karthik-muth/api/v3\", auth=auth)\n",
    "\n",
    "# Then play with your Github objects:\n",
    "# for repo in g.get_user().get_repos():\n",
    "#     print(repo.name)"
   ]
  },
  {
   "cell_type": "markdown",
   "metadata": {},
   "source": [
    "# explore"
   ]
  },
  {
   "cell_type": "markdown",
   "metadata": {},
   "source": [
    "- Many repos have more than 6 topics\n",
    "- First stargazer is available, but needs a seperate api call. "
   ]
  },
  {
   "cell_type": "code",
   "execution_count": 70,
   "metadata": {},
   "outputs": [
    {
     "name": "stdout",
     "output_type": "stream",
     "text": [
      "ollama/ollama ['go', 'golang', 'llama', 'llama2', 'llm', 'llms', 'mistral', 'ollama'] 37392 2464\n"
     ]
    }
   ],
   "source": [
    "repo = repositories[0]\n",
    "print(repo.full_name, repo.topics, repo.stargazers_count, repo.forks_count)"
   ]
  },
  {
   "cell_type": "code",
   "execution_count": 74,
   "metadata": {},
   "outputs": [
    {
     "data": {
      "text/html": [
       "<div>\n",
       "<style scoped>\n",
       "    .dataframe tbody tr th:only-of-type {\n",
       "        vertical-align: middle;\n",
       "    }\n",
       "\n",
       "    .dataframe tbody tr th {\n",
       "        vertical-align: top;\n",
       "    }\n",
       "\n",
       "    .dataframe thead th {\n",
       "        text-align: right;\n",
       "    }\n",
       "</style>\n",
       "<table border=\"1\" class=\"dataframe\">\n",
       "  <thead>\n",
       "    <tr style=\"text-align: right;\">\n",
       "      <th></th>\n",
       "      <th>0</th>\n",
       "      <th>1</th>\n",
       "      <th>2</th>\n",
       "      <th>3</th>\n",
       "    </tr>\n",
       "  </thead>\n",
       "  <tbody>\n",
       "    <tr>\n",
       "      <th>0</th>\n",
       "      <td>AutoGPT</td>\n",
       "      <td>[ai, artificial-intelligence, autonomous-agent...</td>\n",
       "      <td>157759</td>\n",
       "      <td>40248</td>\n",
       "    </tr>\n",
       "    <tr>\n",
       "      <th>1</th>\n",
       "      <td>openai-cookbook</td>\n",
       "      <td>[chatgpt, docs, gpt-3, gpt-4, openai]</td>\n",
       "      <td>53825</td>\n",
       "      <td>8997</td>\n",
       "    </tr>\n",
       "    <tr>\n",
       "      <th>2</th>\n",
       "      <td>gpt4free</td>\n",
       "      <td>[chatbot, chatbots, chatgpt, chatgpt-4, chatgp...</td>\n",
       "      <td>52617</td>\n",
       "      <td>12879</td>\n",
       "    </tr>\n",
       "    <tr>\n",
       "      <th>3</th>\n",
       "      <td>gpt-engineer</td>\n",
       "      <td>[ai, autonomous-agent, code-generation, codeba...</td>\n",
       "      <td>49049</td>\n",
       "      <td>7982</td>\n",
       "    </tr>\n",
       "    <tr>\n",
       "      <th>4</th>\n",
       "      <td>ChatGPT</td>\n",
       "      <td>[ai, app, application, chatgpt, desktop-app, g...</td>\n",
       "      <td>45530</td>\n",
       "      <td>5481</td>\n",
       "    </tr>\n",
       "    <tr>\n",
       "      <th>5</th>\n",
       "      <td>Prompt-Engineering-Guide</td>\n",
       "      <td>[chatgpt, deep-learning, language-model, opena...</td>\n",
       "      <td>41287</td>\n",
       "      <td>3871</td>\n",
       "    </tr>\n",
       "    <tr>\n",
       "      <th>6</th>\n",
       "      <td>AgentGPT</td>\n",
       "      <td>[agent, agentgpt, agi, autogpt, baby-agi, gpt,...</td>\n",
       "      <td>28757</td>\n",
       "      <td>9190</td>\n",
       "    </tr>\n",
       "    <tr>\n",
       "      <th>7</th>\n",
       "      <td>whisper.cpp</td>\n",
       "      <td>[inference, openai, speech-recognition, speech...</td>\n",
       "      <td>27976</td>\n",
       "      <td>2724</td>\n",
       "    </tr>\n",
       "    <tr>\n",
       "      <th>8</th>\n",
       "      <td>quivr</td>\n",
       "      <td>[ai, api, chatbot, chatgpt, database, docker, ...</td>\n",
       "      <td>27973</td>\n",
       "      <td>3193</td>\n",
       "    </tr>\n",
       "    <tr>\n",
       "      <th>9</th>\n",
       "      <td>ToolJet</td>\n",
       "      <td>[docker, hacktoberfest, internal-applications,...</td>\n",
       "      <td>25920</td>\n",
       "      <td>3188</td>\n",
       "    </tr>\n",
       "    <tr>\n",
       "      <th>10</th>\n",
       "      <td>generative-ai-for-beginners</td>\n",
       "      <td>[ai, azure, chatgpt, dall-e, generative-ai, ge...</td>\n",
       "      <td>23805</td>\n",
       "      <td>15245</td>\n",
       "    </tr>\n",
       "    <tr>\n",
       "      <th>11</th>\n",
       "      <td>chatgpt-on-wechat</td>\n",
       "      <td>[ai, chatglm-4, chatgpt, dingtalk, feishu-bot,...</td>\n",
       "      <td>21272</td>\n",
       "      <td>6018</td>\n",
       "    </tr>\n",
       "    <tr>\n",
       "      <th>12</th>\n",
       "      <td>Pake</td>\n",
       "      <td>[chatgpt, gpt-4, high-performance, linux-deskt...</td>\n",
       "      <td>20908</td>\n",
       "      <td>3041</td>\n",
       "    </tr>\n",
       "    <tr>\n",
       "      <th>13</th>\n",
       "      <td>openai-translator</td>\n",
       "      <td>[browser-extension, chatgpt, chrome-extension,...</td>\n",
       "      <td>19903</td>\n",
       "      <td>1498</td>\n",
       "    </tr>\n",
       "    <tr>\n",
       "      <th>14</th>\n",
       "      <td>Hello-Python</td>\n",
       "      <td>[backend, chatgpt, chatgpt-api, fastapi, front...</td>\n",
       "      <td>19641</td>\n",
       "      <td>1311</td>\n",
       "    </tr>\n",
       "    <tr>\n",
       "      <th>15</th>\n",
       "      <td>openai-python</td>\n",
       "      <td>[openai, python]</td>\n",
       "      <td>18335</td>\n",
       "      <td>2525</td>\n",
       "    </tr>\n",
       "    <tr>\n",
       "      <th>16</th>\n",
       "      <td>lobe-chat</td>\n",
       "      <td>[ai, azure-openai, chat, chatglm, chatgpt, cla...</td>\n",
       "      <td>17772</td>\n",
       "      <td>3684</td>\n",
       "    </tr>\n",
       "    <tr>\n",
       "      <th>17</th>\n",
       "      <td>chatbox</td>\n",
       "      <td>[ai, app, chatgpt, copilot, desktop, desktop-a...</td>\n",
       "      <td>16985</td>\n",
       "      <td>1788</td>\n",
       "    </tr>\n",
       "    <tr>\n",
       "      <th>18</th>\n",
       "      <td>semantic-kernel</td>\n",
       "      <td>[ai, artificial-intelligence, llm, openai, sdk]</td>\n",
       "      <td>16738</td>\n",
       "      <td>2472</td>\n",
       "    </tr>\n",
       "    <tr>\n",
       "      <th>19</th>\n",
       "      <td>carrot</td>\n",
       "      <td>[ai, chat, chatgpt, freechatgpt, openai]</td>\n",
       "      <td>15830</td>\n",
       "      <td>1348</td>\n",
       "    </tr>\n",
       "    <tr>\n",
       "      <th>20</th>\n",
       "      <td>dify</td>\n",
       "      <td>[ai, backend-as-a-service, gpt, gpt-4, langcha...</td>\n",
       "      <td>15556</td>\n",
       "      <td>2074</td>\n",
       "    </tr>\n",
       "    <tr>\n",
       "      <th>21</th>\n",
       "      <td>chatgpt-api</td>\n",
       "      <td>[ai, chatbot, chatgpt, openai]</td>\n",
       "      <td>15524</td>\n",
       "      <td>2089</td>\n",
       "    </tr>\n",
       "    <tr>\n",
       "      <th>22</th>\n",
       "      <td>siyuan</td>\n",
       "      <td>[anki, chatgpt, electron, evernote, knowledge-...</td>\n",
       "      <td>14473</td>\n",
       "      <td>1108</td>\n",
       "    </tr>\n",
       "    <tr>\n",
       "      <th>23</th>\n",
       "      <td>gpt4-pdf-chatbot-langchain</td>\n",
       "      <td>[gpt4, langchain, nextjs, openai, pdf, typescr...</td>\n",
       "      <td>14187</td>\n",
       "      <td>3055</td>\n",
       "    </tr>\n",
       "    <tr>\n",
       "      <th>24</th>\n",
       "      <td>SuperAGI</td>\n",
       "      <td>[agents, agi, ai, artificial-general-intellige...</td>\n",
       "      <td>13767</td>\n",
       "      <td>1699</td>\n",
       "    </tr>\n",
       "    <tr>\n",
       "      <th>25</th>\n",
       "      <td>KeepChatGPT</td>\n",
       "      <td>[ai, chatgpt, datasecurity, openai, userscript]</td>\n",
       "      <td>13096</td>\n",
       "      <td>671</td>\n",
       "    </tr>\n",
       "    <tr>\n",
       "      <th>26</th>\n",
       "      <td>draw-a-ui</td>\n",
       "      <td>[ai, gpt, openai, react, typescript]</td>\n",
       "      <td>12538</td>\n",
       "      <td>1454</td>\n",
       "    </tr>\n",
       "    <tr>\n",
       "      <th>27</th>\n",
       "      <td>clip-as-service</td>\n",
       "      <td>[bert, bert-as-service, clip-as-service, clip-...</td>\n",
       "      <td>12092</td>\n",
       "      <td>2056</td>\n",
       "    </tr>\n",
       "    <tr>\n",
       "      <th>28</th>\n",
       "      <td>botpress</td>\n",
       "      <td>[agent, ai, botpress, chatbot, chatgpt, gpt, g...</td>\n",
       "      <td>11633</td>\n",
       "      <td>1677</td>\n",
       "    </tr>\n",
       "    <tr>\n",
       "      <th>29</th>\n",
       "      <td>chatgpt-mirai-qq-bot</td>\n",
       "      <td>[bard, bot, chatglm-6b, chatgpt, discord, erni...</td>\n",
       "      <td>11295</td>\n",
       "      <td>1421</td>\n",
       "    </tr>\n",
       "  </tbody>\n",
       "</table>\n",
       "</div>"
      ],
      "text/plain": [
       "                              0  \\\n",
       "0                       AutoGPT   \n",
       "1               openai-cookbook   \n",
       "2                      gpt4free   \n",
       "3                  gpt-engineer   \n",
       "4                       ChatGPT   \n",
       "5      Prompt-Engineering-Guide   \n",
       "6                      AgentGPT   \n",
       "7                   whisper.cpp   \n",
       "8                         quivr   \n",
       "9                       ToolJet   \n",
       "10  generative-ai-for-beginners   \n",
       "11            chatgpt-on-wechat   \n",
       "12                         Pake   \n",
       "13            openai-translator   \n",
       "14                 Hello-Python   \n",
       "15                openai-python   \n",
       "16                    lobe-chat   \n",
       "17                      chatbox   \n",
       "18              semantic-kernel   \n",
       "19                       carrot   \n",
       "20                         dify   \n",
       "21                  chatgpt-api   \n",
       "22                       siyuan   \n",
       "23   gpt4-pdf-chatbot-langchain   \n",
       "24                     SuperAGI   \n",
       "25                  KeepChatGPT   \n",
       "26                    draw-a-ui   \n",
       "27              clip-as-service   \n",
       "28                     botpress   \n",
       "29         chatgpt-mirai-qq-bot   \n",
       "\n",
       "                                                    1       2      3  \n",
       "0   [ai, artificial-intelligence, autonomous-agent...  157759  40248  \n",
       "1               [chatgpt, docs, gpt-3, gpt-4, openai]   53825   8997  \n",
       "2   [chatbot, chatbots, chatgpt, chatgpt-4, chatgp...   52617  12879  \n",
       "3   [ai, autonomous-agent, code-generation, codeba...   49049   7982  \n",
       "4   [ai, app, application, chatgpt, desktop-app, g...   45530   5481  \n",
       "5   [chatgpt, deep-learning, language-model, opena...   41287   3871  \n",
       "6   [agent, agentgpt, agi, autogpt, baby-agi, gpt,...   28757   9190  \n",
       "7   [inference, openai, speech-recognition, speech...   27976   2724  \n",
       "8   [ai, api, chatbot, chatgpt, database, docker, ...   27973   3193  \n",
       "9   [docker, hacktoberfest, internal-applications,...   25920   3188  \n",
       "10  [ai, azure, chatgpt, dall-e, generative-ai, ge...   23805  15245  \n",
       "11  [ai, chatglm-4, chatgpt, dingtalk, feishu-bot,...   21272   6018  \n",
       "12  [chatgpt, gpt-4, high-performance, linux-deskt...   20908   3041  \n",
       "13  [browser-extension, chatgpt, chrome-extension,...   19903   1498  \n",
       "14  [backend, chatgpt, chatgpt-api, fastapi, front...   19641   1311  \n",
       "15                                   [openai, python]   18335   2525  \n",
       "16  [ai, azure-openai, chat, chatglm, chatgpt, cla...   17772   3684  \n",
       "17  [ai, app, chatgpt, copilot, desktop, desktop-a...   16985   1788  \n",
       "18    [ai, artificial-intelligence, llm, openai, sdk]   16738   2472  \n",
       "19           [ai, chat, chatgpt, freechatgpt, openai]   15830   1348  \n",
       "20  [ai, backend-as-a-service, gpt, gpt-4, langcha...   15556   2074  \n",
       "21                     [ai, chatbot, chatgpt, openai]   15524   2089  \n",
       "22  [anki, chatgpt, electron, evernote, knowledge-...   14473   1108  \n",
       "23  [gpt4, langchain, nextjs, openai, pdf, typescr...   14187   3055  \n",
       "24  [agents, agi, ai, artificial-general-intellige...   13767   1699  \n",
       "25    [ai, chatgpt, datasecurity, openai, userscript]   13096    671  \n",
       "26               [ai, gpt, openai, react, typescript]   12538   1454  \n",
       "27  [bert, bert-as-service, clip-as-service, clip-...   12092   2056  \n",
       "28  [agent, ai, botpress, chatbot, chatgpt, gpt, g...   11633   1677  \n",
       "29  [bard, bot, chatglm-6b, chatgpt, discord, erni...   11295   1421  "
      ]
     },
     "execution_count": 74,
     "metadata": {},
     "output_type": "execute_result"
    }
   ],
   "source": [
    "## explore topic llm\n",
    "row = ()\n",
    "rows_list = []    \n",
    "for repo in repositories.get_page(0):\n",
    "    row = (repo.name, repo.topics, repo.stargazers_count, repo.forks_count)\n",
    "    rows_list.append(row)\n",
    "rows_list\n",
    "\n",
    "\n",
    "df"
   ]
  },
  {
   "cell_type": "code",
   "execution_count": 110,
   "metadata": {},
   "outputs": [
    {
     "name": "stdout",
     "output_type": "stream",
     "text": [
      "\u001b[0;31mSignature:\u001b[0m\n",
      "\u001b[0mdf\u001b[0m\u001b[0;34m.\u001b[0m\u001b[0mduplicated\u001b[0m\u001b[0;34m(\u001b[0m\u001b[0;34m\u001b[0m\n",
      "\u001b[0;34m\u001b[0m    \u001b[0msubset\u001b[0m\u001b[0;34m:\u001b[0m \u001b[0;34m'Hashable | Sequence[Hashable] | None'\u001b[0m \u001b[0;34m=\u001b[0m \u001b[0;32mNone\u001b[0m\u001b[0;34m,\u001b[0m\u001b[0;34m\u001b[0m\n",
      "\u001b[0;34m\u001b[0m    \u001b[0mkeep\u001b[0m\u001b[0;34m:\u001b[0m \u001b[0;34m'DropKeep'\u001b[0m \u001b[0;34m=\u001b[0m \u001b[0;34m'first'\u001b[0m\u001b[0;34m,\u001b[0m\u001b[0;34m\u001b[0m\n",
      "\u001b[0;34m\u001b[0m\u001b[0;34m)\u001b[0m \u001b[0;34m->\u001b[0m \u001b[0;34m'Series'\u001b[0m\u001b[0;34m\u001b[0m\u001b[0;34m\u001b[0m\u001b[0m\n",
      "\u001b[0;31mDocstring:\u001b[0m\n",
      "Return boolean Series denoting duplicate rows.\n",
      "\n",
      "Considering certain columns is optional.\n",
      "\n",
      "Parameters\n",
      "----------\n",
      "subset : column label or sequence of labels, optional\n",
      "    Only consider certain columns for identifying duplicates, by\n",
      "    default use all of the columns.\n",
      "keep : {'first', 'last', False}, default 'first'\n",
      "    Determines which duplicates (if any) to mark.\n",
      "\n",
      "    - ``first`` : Mark duplicates as ``True`` except for the first occurrence.\n",
      "    - ``last`` : Mark duplicates as ``True`` except for the last occurrence.\n",
      "    - False : Mark all duplicates as ``True``.\n",
      "\n",
      "Returns\n",
      "-------\n",
      "Series\n",
      "    Boolean series for each duplicated rows.\n",
      "\n",
      "See Also\n",
      "--------\n",
      "Index.duplicated : Equivalent method on index.\n",
      "Series.duplicated : Equivalent method on Series.\n",
      "Series.drop_duplicates : Remove duplicate values from Series.\n",
      "DataFrame.drop_duplicates : Remove duplicate values from DataFrame.\n",
      "\n",
      "Examples\n",
      "--------\n",
      "Consider dataset containing ramen rating.\n",
      "\n",
      ">>> df = pd.DataFrame({\n",
      "...     'brand': ['Yum Yum', 'Yum Yum', 'Indomie', 'Indomie', 'Indomie'],\n",
      "...     'style': ['cup', 'cup', 'cup', 'pack', 'pack'],\n",
      "...     'rating': [4, 4, 3.5, 15, 5]\n",
      "... })\n",
      ">>> df\n",
      "    brand style  rating\n",
      "0  Yum Yum   cup     4.0\n",
      "1  Yum Yum   cup     4.0\n",
      "2  Indomie   cup     3.5\n",
      "3  Indomie  pack    15.0\n",
      "4  Indomie  pack     5.0\n",
      "\n",
      "By default, for each set of duplicated values, the first occurrence\n",
      "is set on False and all others on True.\n",
      "\n",
      ">>> df.duplicated()\n",
      "0    False\n",
      "1     True\n",
      "2    False\n",
      "3    False\n",
      "4    False\n",
      "dtype: bool\n",
      "\n",
      "By using 'last', the last occurrence of each set of duplicated values\n",
      "is set on False and all others on True.\n",
      "\n",
      ">>> df.duplicated(keep='last')\n",
      "0     True\n",
      "1    False\n",
      "2    False\n",
      "3    False\n",
      "4    False\n",
      "dtype: bool\n",
      "\n",
      "By setting ``keep`` on False, all duplicates are True.\n",
      "\n",
      ">>> df.duplicated(keep=False)\n",
      "0     True\n",
      "1     True\n",
      "2    False\n",
      "3    False\n",
      "4    False\n",
      "dtype: bool\n",
      "\n",
      "To find duplicates on specific column(s), use ``subset``.\n",
      "\n",
      ">>> df.duplicated(subset=['brand'])\n",
      "0    False\n",
      "1     True\n",
      "2    False\n",
      "3     True\n",
      "4     True\n",
      "dtype: bool\n",
      "\u001b[0;31mFile:\u001b[0m      ~/.pyenv/versions/3.11.7/lib/python3.11/site-packages/pandas/core/frame.py\n",
      "\u001b[0;31mType:\u001b[0m      method"
     ]
    }
   ],
   "source": [
    "df.duplicated?"
   ]
  },
  {
   "cell_type": "code",
   "execution_count": 123,
   "metadata": {},
   "outputs": [
    {
     "data": {
      "text/html": [
       "<div>\n",
       "<style scoped>\n",
       "    .dataframe tbody tr th:only-of-type {\n",
       "        vertical-align: middle;\n",
       "    }\n",
       "\n",
       "    .dataframe tbody tr th {\n",
       "        vertical-align: top;\n",
       "    }\n",
       "\n",
       "    .dataframe thead th {\n",
       "        text-align: right;\n",
       "    }\n",
       "</style>\n",
       "<table border=\"1\" class=\"dataframe\">\n",
       "  <thead>\n",
       "    <tr style=\"text-align: right;\">\n",
       "      <th></th>\n",
       "      <th>topic</th>\n",
       "      <th>name</th>\n",
       "      <th>stars</th>\n",
       "      <th>forks</th>\n",
       "      <th>topics</th>\n",
       "      <th>description</th>\n",
       "      <th>language</th>\n",
       "    </tr>\n",
       "  </thead>\n",
       "  <tbody>\n",
       "    <tr>\n",
       "      <th>0</th>\n",
       "      <td>llm</td>\n",
       "      <td>ollama</td>\n",
       "      <td>37536</td>\n",
       "      <td>2477</td>\n",
       "      <td>[go, golang, llama, llama2, llm, llms, mistral...</td>\n",
       "      <td>Get up and running with Llama 2, Mistral, and ...</td>\n",
       "      <td>Go</td>\n",
       "    </tr>\n",
       "    <tr>\n",
       "      <th>1</th>\n",
       "      <td>llm</td>\n",
       "      <td>MetaGPT</td>\n",
       "      <td>34261</td>\n",
       "      <td>4074</td>\n",
       "      <td>[agent, gpt, hacktoberfest, llm, metagpt, mult...</td>\n",
       "      <td>🌟 The Multi-Agent Framework: Given one line Re...</td>\n",
       "      <td>Python</td>\n",
       "    </tr>\n",
       "    <tr>\n",
       "      <th>2</th>\n",
       "      <td>llm</td>\n",
       "      <td>llama_index</td>\n",
       "      <td>28070</td>\n",
       "      <td>3653</td>\n",
       "      <td>[agents, application, data, fine-tuning, frame...</td>\n",
       "      <td>LlamaIndex (formerly GPT Index) is a data fram...</td>\n",
       "      <td>Python</td>\n",
       "    </tr>\n",
       "    <tr>\n",
       "      <th>3</th>\n",
       "      <td>llm</td>\n",
       "      <td>quivr</td>\n",
       "      <td>27980</td>\n",
       "      <td>3195</td>\n",
       "      <td>[ai, api, chatbot, chatgpt, database, docker, ...</td>\n",
       "      <td>Your GenAI Second Brain 🧠  A personal producti...</td>\n",
       "      <td>TypeScript</td>\n",
       "    </tr>\n",
       "    <tr>\n",
       "      <th>4</th>\n",
       "      <td>llm</td>\n",
       "      <td>milvus</td>\n",
       "      <td>25476</td>\n",
       "      <td>2714</td>\n",
       "      <td>[anns, cloud-native, distributed, embedding-da...</td>\n",
       "      <td>A cloud-native vector database, storage for ne...</td>\n",
       "      <td>Go</td>\n",
       "    </tr>\n",
       "    <tr>\n",
       "      <th>...</th>\n",
       "      <td>...</td>\n",
       "      <td>...</td>\n",
       "      <td>...</td>\n",
       "      <td>...</td>\n",
       "      <td>...</td>\n",
       "      <td>...</td>\n",
       "      <td>...</td>\n",
       "    </tr>\n",
       "    <tr>\n",
       "      <th>113</th>\n",
       "      <td>openai</td>\n",
       "      <td>gpt4-pdf-chatbot-langchain</td>\n",
       "      <td>14188</td>\n",
       "      <td>3056</td>\n",
       "      <td>[gpt4, langchain, nextjs, openai, pdf, typescr...</td>\n",
       "      <td>GPT4 &amp; LangChain Chatbot for large PDF docs</td>\n",
       "      <td>TypeScript</td>\n",
       "    </tr>\n",
       "    <tr>\n",
       "      <th>115</th>\n",
       "      <td>openai</td>\n",
       "      <td>KeepChatGPT</td>\n",
       "      <td>13098</td>\n",
       "      <td>674</td>\n",
       "      <td>[ai, chatgpt, datasecurity, openai, userscript]</td>\n",
       "      <td>这是一款提高ChatGPT的数据安全能力和效率的插件。并且免费共享大量创新功能，如：自动刷新...</td>\n",
       "      <td>JavaScript</td>\n",
       "    </tr>\n",
       "    <tr>\n",
       "      <th>116</th>\n",
       "      <td>openai</td>\n",
       "      <td>draw-a-ui</td>\n",
       "      <td>12540</td>\n",
       "      <td>1454</td>\n",
       "      <td>[ai, gpt, openai, react, typescript]</td>\n",
       "      <td>Draw a mockup and generate html for it</td>\n",
       "      <td>TypeScript</td>\n",
       "    </tr>\n",
       "    <tr>\n",
       "      <th>117</th>\n",
       "      <td>openai</td>\n",
       "      <td>clip-as-service</td>\n",
       "      <td>12092</td>\n",
       "      <td>2057</td>\n",
       "      <td>[bert, bert-as-service, clip-as-service, clip-...</td>\n",
       "      <td>🏄 Scalable embedding, reasoning, ranking for i...</td>\n",
       "      <td>Python</td>\n",
       "    </tr>\n",
       "    <tr>\n",
       "      <th>119</th>\n",
       "      <td>openai</td>\n",
       "      <td>chatgpt-mirai-qq-bot</td>\n",
       "      <td>11298</td>\n",
       "      <td>1421</td>\n",
       "      <td>[bard, bot, chatglm-6b, chatgpt, discord, erni...</td>\n",
       "      <td>🚀 一键部署！真正的 AI 聊天机器人！支持ChatGPT、文心一言、讯飞星火、Bing、B...</td>\n",
       "      <td>Python</td>\n",
       "    </tr>\n",
       "  </tbody>\n",
       "</table>\n",
       "<p>94 rows × 7 columns</p>\n",
       "</div>"
      ],
      "text/plain": [
       "      topic                        name  stars  forks  \\\n",
       "0       llm                      ollama  37536   2477   \n",
       "1       llm                     MetaGPT  34261   4074   \n",
       "2       llm                 llama_index  28070   3653   \n",
       "3       llm                       quivr  27980   3195   \n",
       "4       llm                      milvus  25476   2714   \n",
       "..      ...                         ...    ...    ...   \n",
       "113  openai  gpt4-pdf-chatbot-langchain  14188   3056   \n",
       "115  openai                 KeepChatGPT  13098    674   \n",
       "116  openai                   draw-a-ui  12540   1454   \n",
       "117  openai             clip-as-service  12092   2057   \n",
       "119  openai        chatgpt-mirai-qq-bot  11298   1421   \n",
       "\n",
       "                                                topics  \\\n",
       "0    [go, golang, llama, llama2, llm, llms, mistral...   \n",
       "1    [agent, gpt, hacktoberfest, llm, metagpt, mult...   \n",
       "2    [agents, application, data, fine-tuning, frame...   \n",
       "3    [ai, api, chatbot, chatgpt, database, docker, ...   \n",
       "4    [anns, cloud-native, distributed, embedding-da...   \n",
       "..                                                 ...   \n",
       "113  [gpt4, langchain, nextjs, openai, pdf, typescr...   \n",
       "115    [ai, chatgpt, datasecurity, openai, userscript]   \n",
       "116               [ai, gpt, openai, react, typescript]   \n",
       "117  [bert, bert-as-service, clip-as-service, clip-...   \n",
       "119  [bard, bot, chatglm-6b, chatgpt, discord, erni...   \n",
       "\n",
       "                                           description    language  \n",
       "0    Get up and running with Llama 2, Mistral, and ...          Go  \n",
       "1    🌟 The Multi-Agent Framework: Given one line Re...      Python  \n",
       "2    LlamaIndex (formerly GPT Index) is a data fram...      Python  \n",
       "3    Your GenAI Second Brain 🧠  A personal producti...  TypeScript  \n",
       "4    A cloud-native vector database, storage for ne...          Go  \n",
       "..                                                 ...         ...  \n",
       "113        GPT4 & LangChain Chatbot for large PDF docs  TypeScript  \n",
       "115  这是一款提高ChatGPT的数据安全能力和效率的插件。并且免费共享大量创新功能，如：自动刷新...  JavaScript  \n",
       "116             Draw a mockup and generate html for it  TypeScript  \n",
       "117  🏄 Scalable embedding, reasoning, ranking for i...      Python  \n",
       "119  🚀 一键部署！真正的 AI 聊天机器人！支持ChatGPT、文心一言、讯飞星火、Bing、B...      Python  \n",
       "\n",
       "[94 rows x 7 columns]"
      ]
     },
     "execution_count": 123,
     "metadata": {},
     "output_type": "execute_result"
    }
   ],
   "source": [
    "df[~df.duplicated('name')]\n"
   ]
  },
  {
   "cell_type": "code",
   "execution_count": 104,
   "metadata": {},
   "outputs": [
    {
     "data": {
      "text/html": [
       "<div>\n",
       "<style scoped>\n",
       "    .dataframe tbody tr th:only-of-type {\n",
       "        vertical-align: middle;\n",
       "    }\n",
       "\n",
       "    .dataframe tbody tr th {\n",
       "        vertical-align: top;\n",
       "    }\n",
       "\n",
       "    .dataframe thead th {\n",
       "        text-align: right;\n",
       "    }\n",
       "</style>\n",
       "<table border=\"1\" class=\"dataframe\">\n",
       "  <thead>\n",
       "    <tr style=\"text-align: right;\">\n",
       "      <th></th>\n",
       "      <th>topic</th>\n",
       "      <th>name</th>\n",
       "      <th>stars</th>\n",
       "      <th>forks</th>\n",
       "      <th>topics</th>\n",
       "      <th>description</th>\n",
       "      <th>language</th>\n",
       "    </tr>\n",
       "  </thead>\n",
       "  <tbody>\n",
       "    <tr>\n",
       "      <th>0</th>\n",
       "      <td>llm</td>\n",
       "      <td>ollama</td>\n",
       "      <td>37536</td>\n",
       "      <td>2477</td>\n",
       "      <td>[go, golang, llama, llama2, llm, llms, mistral...</td>\n",
       "      <td>Get up and running with Llama 2, Mistral, and ...</td>\n",
       "      <td>Go</td>\n",
       "    </tr>\n",
       "    <tr>\n",
       "      <th>2</th>\n",
       "      <td>llm</td>\n",
       "      <td>llama_index</td>\n",
       "      <td>28070</td>\n",
       "      <td>3653</td>\n",
       "      <td>[agents, application, data, fine-tuning, frame...</td>\n",
       "      <td>LlamaIndex (formerly GPT Index) is a data fram...</td>\n",
       "      <td>Python</td>\n",
       "    </tr>\n",
       "    <tr>\n",
       "      <th>3</th>\n",
       "      <td>llm</td>\n",
       "      <td>quivr</td>\n",
       "      <td>27980</td>\n",
       "      <td>3195</td>\n",
       "      <td>[ai, api, chatbot, chatgpt, database, docker, ...</td>\n",
       "      <td>Your GenAI Second Brain 🧠  A personal producti...</td>\n",
       "      <td>TypeScript</td>\n",
       "    </tr>\n",
       "    <tr>\n",
       "      <th>4</th>\n",
       "      <td>llm</td>\n",
       "      <td>milvus</td>\n",
       "      <td>25476</td>\n",
       "      <td>2714</td>\n",
       "      <td>[anns, cloud-native, distributed, embedding-da...</td>\n",
       "      <td>A cloud-native vector database, storage for ne...</td>\n",
       "      <td>Go</td>\n",
       "    </tr>\n",
       "    <tr>\n",
       "      <th>7</th>\n",
       "      <td>llm</td>\n",
       "      <td>Langchain-Chatchat</td>\n",
       "      <td>22217</td>\n",
       "      <td>3910</td>\n",
       "      <td>[chatbot, chatchat, chatglm, chatglm-6b, chatg...</td>\n",
       "      <td>Langchain-Chatchat（原Langchain-ChatGLM）基于 Langc...</td>\n",
       "      <td>Python</td>\n",
       "    </tr>\n",
       "    <tr>\n",
       "      <th>...</th>\n",
       "      <td>...</td>\n",
       "      <td>...</td>\n",
       "      <td>...</td>\n",
       "      <td>...</td>\n",
       "      <td>...</td>\n",
       "      <td>...</td>\n",
       "      <td>...</td>\n",
       "    </tr>\n",
       "    <tr>\n",
       "      <th>112</th>\n",
       "      <td>openai</td>\n",
       "      <td>siyuan</td>\n",
       "      <td>14474</td>\n",
       "      <td>1109</td>\n",
       "      <td>[anki, chatgpt, electron, evernote, knowledge-...</td>\n",
       "      <td>A privacy-first, self-hosted, fully open sourc...</td>\n",
       "      <td>TypeScript</td>\n",
       "    </tr>\n",
       "    <tr>\n",
       "      <th>114</th>\n",
       "      <td>openai</td>\n",
       "      <td>SuperAGI</td>\n",
       "      <td>13771</td>\n",
       "      <td>1699</td>\n",
       "      <td>[agents, agi, ai, artificial-general-intellige...</td>\n",
       "      <td>&lt;⚡️&gt; SuperAGI - A dev-first open source autono...</td>\n",
       "      <td>Python</td>\n",
       "    </tr>\n",
       "    <tr>\n",
       "      <th>117</th>\n",
       "      <td>openai</td>\n",
       "      <td>clip-as-service</td>\n",
       "      <td>12092</td>\n",
       "      <td>2057</td>\n",
       "      <td>[bert, bert-as-service, clip-as-service, clip-...</td>\n",
       "      <td>🏄 Scalable embedding, reasoning, ranking for i...</td>\n",
       "      <td>Python</td>\n",
       "    </tr>\n",
       "    <tr>\n",
       "      <th>118</th>\n",
       "      <td>openai</td>\n",
       "      <td>botpress</td>\n",
       "      <td>11634</td>\n",
       "      <td>1678</td>\n",
       "      <td>[agent, ai, botpress, chatbot, chatgpt, gpt, g...</td>\n",
       "      <td>The open-source hub to build &amp; deploy GPT/LLM ...</td>\n",
       "      <td>TypeScript</td>\n",
       "    </tr>\n",
       "    <tr>\n",
       "      <th>119</th>\n",
       "      <td>openai</td>\n",
       "      <td>chatgpt-mirai-qq-bot</td>\n",
       "      <td>11298</td>\n",
       "      <td>1421</td>\n",
       "      <td>[bard, bot, chatglm-6b, chatgpt, discord, erni...</td>\n",
       "      <td>🚀 一键部署！真正的 AI 聊天机器人！支持ChatGPT、文心一言、讯飞星火、Bing、B...</td>\n",
       "      <td>Python</td>\n",
       "    </tr>\n",
       "  </tbody>\n",
       "</table>\n",
       "<p>86 rows × 7 columns</p>\n",
       "</div>"
      ],
      "text/plain": [
       "      topic                  name  stars  forks  \\\n",
       "0       llm                ollama  37536   2477   \n",
       "2       llm           llama_index  28070   3653   \n",
       "3       llm                 quivr  27980   3195   \n",
       "4       llm                milvus  25476   2714   \n",
       "7       llm    Langchain-Chatchat  22217   3910   \n",
       "..      ...                   ...    ...    ...   \n",
       "112  openai                siyuan  14474   1109   \n",
       "114  openai              SuperAGI  13771   1699   \n",
       "117  openai       clip-as-service  12092   2057   \n",
       "118  openai              botpress  11634   1678   \n",
       "119  openai  chatgpt-mirai-qq-bot  11298   1421   \n",
       "\n",
       "                                                topics  \\\n",
       "0    [go, golang, llama, llama2, llm, llms, mistral...   \n",
       "2    [agents, application, data, fine-tuning, frame...   \n",
       "3    [ai, api, chatbot, chatgpt, database, docker, ...   \n",
       "4    [anns, cloud-native, distributed, embedding-da...   \n",
       "7    [chatbot, chatchat, chatglm, chatglm-6b, chatg...   \n",
       "..                                                 ...   \n",
       "112  [anki, chatgpt, electron, evernote, knowledge-...   \n",
       "114  [agents, agi, ai, artificial-general-intellige...   \n",
       "117  [bert, bert-as-service, clip-as-service, clip-...   \n",
       "118  [agent, ai, botpress, chatbot, chatgpt, gpt, g...   \n",
       "119  [bard, bot, chatglm-6b, chatgpt, discord, erni...   \n",
       "\n",
       "                                           description    language  \n",
       "0    Get up and running with Llama 2, Mistral, and ...          Go  \n",
       "2    LlamaIndex (formerly GPT Index) is a data fram...      Python  \n",
       "3    Your GenAI Second Brain 🧠  A personal producti...  TypeScript  \n",
       "4    A cloud-native vector database, storage for ne...          Go  \n",
       "7    Langchain-Chatchat（原Langchain-ChatGLM）基于 Langc...      Python  \n",
       "..                                                 ...         ...  \n",
       "112  A privacy-first, self-hosted, fully open sourc...  TypeScript  \n",
       "114  <⚡️> SuperAGI - A dev-first open source autono...      Python  \n",
       "117  🏄 Scalable embedding, reasoning, ranking for i...      Python  \n",
       "118  The open-source hub to build & deploy GPT/LLM ...  TypeScript  \n",
       "119  🚀 一键部署！真正的 AI 聊天机器人！支持ChatGPT、文心一言、讯飞星火、Bing、B...      Python  \n",
       "\n",
       "[86 rows x 7 columns]"
      ]
     },
     "execution_count": 104,
     "metadata": {},
     "output_type": "execute_result"
    }
   ],
   "source": [
    "df.loc[df.topics.map(len)>6]"
   ]
  },
  {
   "cell_type": "code",
   "execution_count": 39,
   "metadata": {},
   "outputs": [
    {
     "data": {
      "text/html": [
       "<div>\n",
       "<style scoped>\n",
       "    .dataframe tbody tr th:only-of-type {\n",
       "        vertical-align: middle;\n",
       "    }\n",
       "\n",
       "    .dataframe tbody tr th {\n",
       "        vertical-align: top;\n",
       "    }\n",
       "\n",
       "    .dataframe thead th {\n",
       "        text-align: right;\n",
       "    }\n",
       "</style>\n",
       "<table border=\"1\" class=\"dataframe\">\n",
       "  <thead>\n",
       "    <tr style=\"text-align: right;\">\n",
       "      <th></th>\n",
       "      <th>date</th>\n",
       "      <th>stars</th>\n",
       "      <th>name</th>\n",
       "    </tr>\n",
       "  </thead>\n",
       "  <tbody>\n",
       "    <tr>\n",
       "      <th>0</th>\n",
       "      <td>2023-03-16</td>\n",
       "      <td>1</td>\n",
       "      <td>AutoGPT</td>\n",
       "    </tr>\n",
       "    <tr>\n",
       "      <th>1</th>\n",
       "      <td>2023-06-06</td>\n",
       "      <td>1</td>\n",
       "      <td>r_engineer</td>\n",
       "    </tr>\n",
       "    <tr>\n",
       "      <th>2</th>\n",
       "      <td>2024-02-16</td>\n",
       "      <td>157815</td>\n",
       "      <td>AutoGPT</td>\n",
       "    </tr>\n",
       "    <tr>\n",
       "      <th>3</th>\n",
       "      <td>2024-02-16</td>\n",
       "      <td>49077</td>\n",
       "      <td>r_engineer</td>\n",
       "    </tr>\n",
       "  </tbody>\n",
       "</table>\n",
       "</div>"
      ],
      "text/plain": [
       "         date   stars        name\n",
       "0  2023-03-16       1     AutoGPT\n",
       "1  2023-06-06       1  r_engineer\n",
       "2  2024-02-16  157815     AutoGPT\n",
       "3  2024-02-16   49077  r_engineer"
      ]
     },
     "execution_count": 39,
     "metadata": {},
     "output_type": "execute_result"
    }
   ],
   "source": [
    "# history from first star\n",
    "\n",
    "\n",
    "r1_stargazers = r1_repo.get_stargazers_with_dates()\n",
    "r2_stargazers = r2_repo.get_stargazers_with_dates()\n",
    "\n",
    "\n",
    "today = datetime.date.today()\n",
    "\n",
    "data1 = np.array([\n",
    "[r1_stargazers[0].starred_at.date(), 1, df_top.iloc[0]['name']],\n",
    "[r2_stargazers[0].starred_at.date(), 1, 'r_engineer'],\n",
    "[today, r1_repo.stargazers_count, df_top.iloc[0]['name']],\n",
    "[today, r2_repo.stargazers_count, 'r_engineer']])\n",
    "\n",
    "\n",
    "\n",
    "df_trend = pd.DataFrame(data=data1, columns=['date', 'stars', 'name'])\n",
    "df_trend\n"
   ]
  },
  {
   "cell_type": "markdown",
   "metadata": {},
   "source": [
    "# code"
   ]
  },
  {
   "cell_type": "code",
   "execution_count": null,
   "metadata": {},
   "outputs": [],
   "source": [
    "topics = ['llm']\n",
    "search_val = 'run-llama/llama_index'\n",
    "search_repo = search_val.split('/')[1]"
   ]
  },
  {
   "cell_type": "code",
   "execution_count": 250,
   "metadata": {},
   "outputs": [
    {
     "name": "stdout",
     "output_type": "stream",
     "text": [
      "llm 1000\n"
     ]
    }
   ],
   "source": [
    "ai_topics = ['llm','generative-ai' ,'chatgpt' ,'openai']\n",
    "# 6.5s for 4 topics\n",
    "df_top, get_result, total = get_top_repo(topics)\n",
    "\n"
   ]
  },
  {
   "cell_type": "markdown",
   "metadata": {},
   "source": []
  },
  {
   "cell_type": "code",
   "execution_count": 234,
   "metadata": {},
   "outputs": [],
   "source": [
    "# if we combine multiple topics, then we sort and remove duplicates\n",
    "\n",
    "df = df.sort_values('stars', ascending=False)\n",
    "# top x that has any of the labels\n",
    "df_top =  df[~df.duplicated('repo')].head(10)"
   ]
  },
  {
   "cell_type": "code",
   "execution_count": 251,
   "metadata": {},
   "outputs": [
    {
     "data": {
      "text/html": [
       "<div>\n",
       "<style scoped>\n",
       "    .dataframe tbody tr th:only-of-type {\n",
       "        vertical-align: middle;\n",
       "    }\n",
       "\n",
       "    .dataframe tbody tr th {\n",
       "        vertical-align: top;\n",
       "    }\n",
       "\n",
       "    .dataframe thead th {\n",
       "        text-align: right;\n",
       "    }\n",
       "</style>\n",
       "<table border=\"1\" class=\"dataframe\">\n",
       "  <thead>\n",
       "    <tr style=\"text-align: right;\">\n",
       "      <th></th>\n",
       "      <th>topic</th>\n",
       "      <th>repo</th>\n",
       "      <th>stars</th>\n",
       "      <th>forks</th>\n",
       "      <th>topics</th>\n",
       "      <th>description</th>\n",
       "      <th>language</th>\n",
       "      <th>created_at</th>\n",
       "    </tr>\n",
       "  </thead>\n",
       "  <tbody>\n",
       "    <tr>\n",
       "      <th>0</th>\n",
       "      <td>llm</td>\n",
       "      <td>ollama</td>\n",
       "      <td>37773</td>\n",
       "      <td>2491</td>\n",
       "      <td>[go, golang, llama, llama2, llm, llms, mistral...</td>\n",
       "      <td>Get up and running with Llama 2, Mistral, and ...</td>\n",
       "      <td>Go</td>\n",
       "      <td>2023-06-26</td>\n",
       "    </tr>\n",
       "    <tr>\n",
       "      <th>1</th>\n",
       "      <td>llm</td>\n",
       "      <td>MetaGPT</td>\n",
       "      <td>34289</td>\n",
       "      <td>4077</td>\n",
       "      <td>[agent, gpt, hacktoberfest, llm, metagpt, mult...</td>\n",
       "      <td>🌟 The Multi-Agent Framework: Given one line Re...</td>\n",
       "      <td>Python</td>\n",
       "      <td>2023-06-30</td>\n",
       "    </tr>\n",
       "    <tr>\n",
       "      <th>2</th>\n",
       "      <td>llm</td>\n",
       "      <td>llama_index</td>\n",
       "      <td>28116</td>\n",
       "      <td>3668</td>\n",
       "      <td>[agents, application, data, fine-tuning, frame...</td>\n",
       "      <td>LlamaIndex (formerly GPT Index) is a data fram...</td>\n",
       "      <td>Python</td>\n",
       "      <td>2022-11-02</td>\n",
       "    </tr>\n",
       "    <tr>\n",
       "      <th>3</th>\n",
       "      <td>llm</td>\n",
       "      <td>quivr</td>\n",
       "      <td>28000</td>\n",
       "      <td>3200</td>\n",
       "      <td>[ai, api, chatbot, chatgpt, database, docker, ...</td>\n",
       "      <td>Your GenAI Second Brain 🧠  A personal producti...</td>\n",
       "      <td>TypeScript</td>\n",
       "      <td>2023-05-12</td>\n",
       "    </tr>\n",
       "    <tr>\n",
       "      <th>4</th>\n",
       "      <td>llm</td>\n",
       "      <td>milvus</td>\n",
       "      <td>25492</td>\n",
       "      <td>2715</td>\n",
       "      <td>[anns, cloud-native, distributed, embedding-da...</td>\n",
       "      <td>A cloud-native vector database, storage for ne...</td>\n",
       "      <td>Go</td>\n",
       "      <td>2019-09-16</td>\n",
       "    </tr>\n",
       "    <tr>\n",
       "      <th>5</th>\n",
       "      <td>llm</td>\n",
       "      <td>Mr.-Ranedeer-AI-Tutor</td>\n",
       "      <td>24389</td>\n",
       "      <td>2837</td>\n",
       "      <td>[ai, education, gpt-4, llm]</td>\n",
       "      <td>A GPT-4 AI Tutor Prompt for customizable perso...</td>\n",
       "      <td>None</td>\n",
       "      <td>2023-03-31</td>\n",
       "    </tr>\n",
       "    <tr>\n",
       "      <th>6</th>\n",
       "      <td>llm</td>\n",
       "      <td>llm-course</td>\n",
       "      <td>23751</td>\n",
       "      <td>2320</td>\n",
       "      <td>[course, large-language-models, llm, machine-l...</td>\n",
       "      <td>Course to get into Large Language Models (LLMs...</td>\n",
       "      <td>Jupyter Notebook</td>\n",
       "      <td>2023-06-17</td>\n",
       "    </tr>\n",
       "    <tr>\n",
       "      <th>7</th>\n",
       "      <td>llm</td>\n",
       "      <td>Langchain-Chatchat</td>\n",
       "      <td>22235</td>\n",
       "      <td>3912</td>\n",
       "      <td>[chatbot, chatchat, chatglm, chatglm-6b, chatg...</td>\n",
       "      <td>Langchain-Chatchat（原Langchain-ChatGLM）基于 Langc...</td>\n",
       "      <td>Python</td>\n",
       "      <td>2023-03-31</td>\n",
       "    </tr>\n",
       "    <tr>\n",
       "      <th>8</th>\n",
       "      <td>llm</td>\n",
       "      <td>chatgpt-on-wechat</td>\n",
       "      <td>21321</td>\n",
       "      <td>6032</td>\n",
       "      <td>[ai, chatglm-4, chatgpt, dingtalk, feishu-bot,...</td>\n",
       "      <td>基于大模型搭建的微信聊天机器人，同时支持微信、企业微信、公众号、飞书、钉钉接入，可选择GPT...</td>\n",
       "      <td>Python</td>\n",
       "      <td>2022-08-07</td>\n",
       "    </tr>\n",
       "    <tr>\n",
       "      <th>9</th>\n",
       "      <td>llm</td>\n",
       "      <td>Flowise</td>\n",
       "      <td>20533</td>\n",
       "      <td>10449</td>\n",
       "      <td>[artificial-intelligence, chatgpt, javascript,...</td>\n",
       "      <td>Drag &amp; drop UI to build your customized LLM flow</td>\n",
       "      <td>TypeScript</td>\n",
       "      <td>2023-03-31</td>\n",
       "    </tr>\n",
       "  </tbody>\n",
       "</table>\n",
       "</div>"
      ],
      "text/plain": [
       "  topic                   repo  stars  forks  \\\n",
       "0   llm                 ollama  37773   2491   \n",
       "1   llm                MetaGPT  34289   4077   \n",
       "2   llm            llama_index  28116   3668   \n",
       "3   llm                  quivr  28000   3200   \n",
       "4   llm                 milvus  25492   2715   \n",
       "5   llm  Mr.-Ranedeer-AI-Tutor  24389   2837   \n",
       "6   llm             llm-course  23751   2320   \n",
       "7   llm     Langchain-Chatchat  22235   3912   \n",
       "8   llm      chatgpt-on-wechat  21321   6032   \n",
       "9   llm                Flowise  20533  10449   \n",
       "\n",
       "                                              topics  \\\n",
       "0  [go, golang, llama, llama2, llm, llms, mistral...   \n",
       "1  [agent, gpt, hacktoberfest, llm, metagpt, mult...   \n",
       "2  [agents, application, data, fine-tuning, frame...   \n",
       "3  [ai, api, chatbot, chatgpt, database, docker, ...   \n",
       "4  [anns, cloud-native, distributed, embedding-da...   \n",
       "5                        [ai, education, gpt-4, llm]   \n",
       "6  [course, large-language-models, llm, machine-l...   \n",
       "7  [chatbot, chatchat, chatglm, chatglm-6b, chatg...   \n",
       "8  [ai, chatglm-4, chatgpt, dingtalk, feishu-bot,...   \n",
       "9  [artificial-intelligence, chatgpt, javascript,...   \n",
       "\n",
       "                                         description          language  \\\n",
       "0  Get up and running with Llama 2, Mistral, and ...                Go   \n",
       "1  🌟 The Multi-Agent Framework: Given one line Re...            Python   \n",
       "2  LlamaIndex (formerly GPT Index) is a data fram...            Python   \n",
       "3  Your GenAI Second Brain 🧠  A personal producti...        TypeScript   \n",
       "4  A cloud-native vector database, storage for ne...                Go   \n",
       "5  A GPT-4 AI Tutor Prompt for customizable perso...              None   \n",
       "6  Course to get into Large Language Models (LLMs...  Jupyter Notebook   \n",
       "7  Langchain-Chatchat（原Langchain-ChatGLM）基于 Langc...            Python   \n",
       "8  基于大模型搭建的微信聊天机器人，同时支持微信、企业微信、公众号、飞书、钉钉接入，可选择GPT...            Python   \n",
       "9   Drag & drop UI to build your customized LLM flow        TypeScript   \n",
       "\n",
       "   created_at  \n",
       "0  2023-06-26  \n",
       "1  2023-06-30  \n",
       "2  2022-11-02  \n",
       "3  2023-05-12  \n",
       "4  2019-09-16  \n",
       "5  2023-03-31  \n",
       "6  2023-06-17  \n",
       "7  2023-03-31  \n",
       "8  2022-08-07  \n",
       "9  2023-03-31  "
      ]
     },
     "execution_count": 251,
     "metadata": {},
     "output_type": "execute_result"
    }
   ],
   "source": [
    "df_top"
   ]
  },
  {
   "cell_type": "code",
   "execution_count": 238,
   "metadata": {},
   "outputs": [
    {
     "name": "stdout",
     "output_type": "stream",
     "text": [
      "get repo  microsoft/semantic-kernel\n"
     ]
    }
   ],
   "source": [
    "# we could reduce a request by first checking in the data\n",
    "# if len(df[df.repo == search_val.split('/')[1]]) > 0:\n",
    "#     r2_repo = df[df.repo == search_val.split('/')[1]].iloc[0]\n",
    "#     r2_repo_name = r2_repo.repo\n",
    "#     r2_created_at = r2_repo.created_at\n",
    "#     r2_stars = r2_repo.stars\n",
    "# else:\n",
    "\n",
    "print('get repo ', search_val)\n",
    "r2_repo = g.get_repo(search_val)\n",
    "r2_repo_name = r2_repo.name\n",
    "r2_created_at = r2_repo.created_at.date()\n",
    "r2_stars = r2_repo.stargazers_count"
   ]
  },
  {
   "cell_type": "code",
   "execution_count": 253,
   "metadata": {},
   "outputs": [],
   "source": [
    "#override\n",
    "search_val = 'microsoft/semantic-kernel'\n",
    "search_repo = search_val.split('/')[1]"
   ]
  },
  {
   "cell_type": "code",
   "execution_count": 239,
   "metadata": {},
   "outputs": [],
   "source": [
    "df_top.loc[len(df_top)] = {'repo':r2_repo_name, 'stars':r2_stars}"
   ]
  },
  {
   "cell_type": "markdown",
   "metadata": {},
   "source": []
  },
  {
   "cell_type": "code",
   "execution_count": 240,
   "metadata": {},
   "outputs": [
    {
     "data": {
      "text/html": [
       "<div>\n",
       "<style scoped>\n",
       "    .dataframe tbody tr th:only-of-type {\n",
       "        vertical-align: middle;\n",
       "    }\n",
       "\n",
       "    .dataframe tbody tr th {\n",
       "        vertical-align: top;\n",
       "    }\n",
       "\n",
       "    .dataframe thead th {\n",
       "        text-align: right;\n",
       "    }\n",
       "</style>\n",
       "<table border=\"1\" class=\"dataframe\">\n",
       "  <thead>\n",
       "    <tr style=\"text-align: right;\">\n",
       "      <th></th>\n",
       "      <th>topic</th>\n",
       "      <th>repo</th>\n",
       "      <th>stars</th>\n",
       "      <th>forks</th>\n",
       "      <th>topics</th>\n",
       "      <th>description</th>\n",
       "      <th>language</th>\n",
       "      <th>created_at</th>\n",
       "    </tr>\n",
       "  </thead>\n",
       "  <tbody>\n",
       "    <tr>\n",
       "      <th>0</th>\n",
       "      <td>llm</td>\n",
       "      <td>ollama</td>\n",
       "      <td>37761</td>\n",
       "      <td>2491.0</td>\n",
       "      <td>[go, golang, llama, llama2, llm, llms, mistral...</td>\n",
       "      <td>Get up and running with Llama 2, Mistral, and ...</td>\n",
       "      <td>Go</td>\n",
       "      <td>2023-06-26</td>\n",
       "    </tr>\n",
       "    <tr>\n",
       "      <th>1</th>\n",
       "      <td>llm</td>\n",
       "      <td>MetaGPT</td>\n",
       "      <td>34289</td>\n",
       "      <td>4077.0</td>\n",
       "      <td>[agent, gpt, hacktoberfest, llm, metagpt, mult...</td>\n",
       "      <td>🌟 The Multi-Agent Framework: Given one line Re...</td>\n",
       "      <td>Python</td>\n",
       "      <td>2023-06-30</td>\n",
       "    </tr>\n",
       "    <tr>\n",
       "      <th>2</th>\n",
       "      <td>llm</td>\n",
       "      <td>llama_index</td>\n",
       "      <td>28115</td>\n",
       "      <td>3667.0</td>\n",
       "      <td>[agents, application, data, fine-tuning, frame...</td>\n",
       "      <td>LlamaIndex (formerly GPT Index) is a data fram...</td>\n",
       "      <td>Python</td>\n",
       "      <td>2022-11-02</td>\n",
       "    </tr>\n",
       "    <tr>\n",
       "      <th>3</th>\n",
       "      <td>llm</td>\n",
       "      <td>quivr</td>\n",
       "      <td>28000</td>\n",
       "      <td>3200.0</td>\n",
       "      <td>[ai, api, chatbot, chatgpt, database, docker, ...</td>\n",
       "      <td>Your GenAI Second Brain 🧠  A personal producti...</td>\n",
       "      <td>TypeScript</td>\n",
       "      <td>2023-05-12</td>\n",
       "    </tr>\n",
       "    <tr>\n",
       "      <th>4</th>\n",
       "      <td>llm</td>\n",
       "      <td>milvus</td>\n",
       "      <td>25490</td>\n",
       "      <td>2715.0</td>\n",
       "      <td>[anns, cloud-native, distributed, embedding-da...</td>\n",
       "      <td>A cloud-native vector database, storage for ne...</td>\n",
       "      <td>Go</td>\n",
       "      <td>2019-09-16</td>\n",
       "    </tr>\n",
       "    <tr>\n",
       "      <th>5</th>\n",
       "      <td>llm</td>\n",
       "      <td>Mr.-Ranedeer-AI-Tutor</td>\n",
       "      <td>24383</td>\n",
       "      <td>2838.0</td>\n",
       "      <td>[ai, education, gpt-4, llm]</td>\n",
       "      <td>A GPT-4 AI Tutor Prompt for customizable perso...</td>\n",
       "      <td>None</td>\n",
       "      <td>2023-03-31</td>\n",
       "    </tr>\n",
       "    <tr>\n",
       "      <th>6</th>\n",
       "      <td>llm</td>\n",
       "      <td>llm-course</td>\n",
       "      <td>23750</td>\n",
       "      <td>2319.0</td>\n",
       "      <td>[course, large-language-models, llm, machine-l...</td>\n",
       "      <td>Course to get into Large Language Models (LLMs...</td>\n",
       "      <td>Jupyter Notebook</td>\n",
       "      <td>2023-06-17</td>\n",
       "    </tr>\n",
       "    <tr>\n",
       "      <th>7</th>\n",
       "      <td>llm</td>\n",
       "      <td>Langchain-Chatchat</td>\n",
       "      <td>22234</td>\n",
       "      <td>3912.0</td>\n",
       "      <td>[chatbot, chatchat, chatglm, chatglm-6b, chatg...</td>\n",
       "      <td>Langchain-Chatchat（原Langchain-ChatGLM）基于 Langc...</td>\n",
       "      <td>Python</td>\n",
       "      <td>2023-03-31</td>\n",
       "    </tr>\n",
       "    <tr>\n",
       "      <th>8</th>\n",
       "      <td>llm</td>\n",
       "      <td>chatgpt-on-wechat</td>\n",
       "      <td>21319</td>\n",
       "      <td>6031.0</td>\n",
       "      <td>[ai, chatglm-4, chatgpt, dingtalk, feishu-bot,...</td>\n",
       "      <td>基于大模型搭建的微信聊天机器人，同时支持微信、企业微信、公众号、飞书、钉钉接入，可选择GPT...</td>\n",
       "      <td>Python</td>\n",
       "      <td>2022-08-07</td>\n",
       "    </tr>\n",
       "    <tr>\n",
       "      <th>9</th>\n",
       "      <td>llm</td>\n",
       "      <td>Flowise</td>\n",
       "      <td>20533</td>\n",
       "      <td>10449.0</td>\n",
       "      <td>[artificial-intelligence, chatgpt, javascript,...</td>\n",
       "      <td>Drag &amp; drop UI to build your customized LLM flow</td>\n",
       "      <td>TypeScript</td>\n",
       "      <td>2023-03-31</td>\n",
       "    </tr>\n",
       "    <tr>\n",
       "      <th>10</th>\n",
       "      <td>NaN</td>\n",
       "      <td>semantic-kernel</td>\n",
       "      <td>16770</td>\n",
       "      <td>NaN</td>\n",
       "      <td>NaN</td>\n",
       "      <td>NaN</td>\n",
       "      <td>NaN</td>\n",
       "      <td>NaN</td>\n",
       "    </tr>\n",
       "  </tbody>\n",
       "</table>\n",
       "</div>"
      ],
      "text/plain": [
       "   topic                   repo  stars    forks  \\\n",
       "0    llm                 ollama  37761   2491.0   \n",
       "1    llm                MetaGPT  34289   4077.0   \n",
       "2    llm            llama_index  28115   3667.0   \n",
       "3    llm                  quivr  28000   3200.0   \n",
       "4    llm                 milvus  25490   2715.0   \n",
       "5    llm  Mr.-Ranedeer-AI-Tutor  24383   2838.0   \n",
       "6    llm             llm-course  23750   2319.0   \n",
       "7    llm     Langchain-Chatchat  22234   3912.0   \n",
       "8    llm      chatgpt-on-wechat  21319   6031.0   \n",
       "9    llm                Flowise  20533  10449.0   \n",
       "10   NaN        semantic-kernel  16770      NaN   \n",
       "\n",
       "                                               topics  \\\n",
       "0   [go, golang, llama, llama2, llm, llms, mistral...   \n",
       "1   [agent, gpt, hacktoberfest, llm, metagpt, mult...   \n",
       "2   [agents, application, data, fine-tuning, frame...   \n",
       "3   [ai, api, chatbot, chatgpt, database, docker, ...   \n",
       "4   [anns, cloud-native, distributed, embedding-da...   \n",
       "5                         [ai, education, gpt-4, llm]   \n",
       "6   [course, large-language-models, llm, machine-l...   \n",
       "7   [chatbot, chatchat, chatglm, chatglm-6b, chatg...   \n",
       "8   [ai, chatglm-4, chatgpt, dingtalk, feishu-bot,...   \n",
       "9   [artificial-intelligence, chatgpt, javascript,...   \n",
       "10                                                NaN   \n",
       "\n",
       "                                          description          language  \\\n",
       "0   Get up and running with Llama 2, Mistral, and ...                Go   \n",
       "1   🌟 The Multi-Agent Framework: Given one line Re...            Python   \n",
       "2   LlamaIndex (formerly GPT Index) is a data fram...            Python   \n",
       "3   Your GenAI Second Brain 🧠  A personal producti...        TypeScript   \n",
       "4   A cloud-native vector database, storage for ne...                Go   \n",
       "5   A GPT-4 AI Tutor Prompt for customizable perso...              None   \n",
       "6   Course to get into Large Language Models (LLMs...  Jupyter Notebook   \n",
       "7   Langchain-Chatchat（原Langchain-ChatGLM）基于 Langc...            Python   \n",
       "8   基于大模型搭建的微信聊天机器人，同时支持微信、企业微信、公众号、飞书、钉钉接入，可选择GPT...            Python   \n",
       "9    Drag & drop UI to build your customized LLM flow        TypeScript   \n",
       "10                                                NaN               NaN   \n",
       "\n",
       "    created_at  \n",
       "0   2023-06-26  \n",
       "1   2023-06-30  \n",
       "2   2022-11-02  \n",
       "3   2023-05-12  \n",
       "4   2019-09-16  \n",
       "5   2023-03-31  \n",
       "6   2023-06-17  \n",
       "7   2023-03-31  \n",
       "8   2022-08-07  \n",
       "9   2023-03-31  \n",
       "10         NaN  "
      ]
     },
     "execution_count": 240,
     "metadata": {},
     "output_type": "execute_result"
    }
   ],
   "source": [
    "df_top"
   ]
  },
  {
   "cell_type": "code",
   "execution_count": 255,
   "metadata": {},
   "outputs": [
    {
     "data": {
      "application/vnd.plotly.v1+json": {
       "config": {
        "plotlyServerURL": "https://plot.ly"
       },
       "data": [
        {
         "marker": {
          "color": [
           "#636EFA",
           "#636EFA",
           "#636EFA",
           "#636EFA",
           "#636EFA",
           "#636EFA",
           "#636EFA",
           "#636EFA",
           "#636EFA",
           "#636EFA"
          ]
         },
         "orientation": "h",
         "text": [
          37773,
          34289,
          28116,
          28000,
          25492,
          24389,
          23751,
          22235,
          21321,
          20533
         ],
         "textposition": "auto",
         "texttemplate": "%{text:.2s}",
         "type": "bar",
         "x": [
          37773,
          34289,
          28116,
          28000,
          25492,
          24389,
          23751,
          22235,
          21321,
          20533
         ],
         "y": [
          "ollama",
          "MetaGPT",
          "llama_index",
          "quivr",
          "milvus",
          "Mr.-Ranedeer-AI-Tutor",
          "llm-course",
          "Langchain-Chatchat",
          "chatgpt-on-wechat",
          "Flowise"
         ]
        }
       ],
       "layout": {
        "template": {
         "data": {
          "bar": [
           {
            "error_x": {
             "color": "#2a3f5f"
            },
            "error_y": {
             "color": "#2a3f5f"
            },
            "marker": {
             "line": {
              "color": "white",
              "width": 0.5
             },
             "pattern": {
              "fillmode": "overlay",
              "size": 10,
              "solidity": 0.2
             }
            },
            "type": "bar"
           }
          ],
          "barpolar": [
           {
            "marker": {
             "line": {
              "color": "white",
              "width": 0.5
             },
             "pattern": {
              "fillmode": "overlay",
              "size": 10,
              "solidity": 0.2
             }
            },
            "type": "barpolar"
           }
          ],
          "carpet": [
           {
            "aaxis": {
             "endlinecolor": "#2a3f5f",
             "gridcolor": "#C8D4E3",
             "linecolor": "#C8D4E3",
             "minorgridcolor": "#C8D4E3",
             "startlinecolor": "#2a3f5f"
            },
            "baxis": {
             "endlinecolor": "#2a3f5f",
             "gridcolor": "#C8D4E3",
             "linecolor": "#C8D4E3",
             "minorgridcolor": "#C8D4E3",
             "startlinecolor": "#2a3f5f"
            },
            "type": "carpet"
           }
          ],
          "choropleth": [
           {
            "colorbar": {
             "outlinewidth": 0,
             "ticks": ""
            },
            "type": "choropleth"
           }
          ],
          "contour": [
           {
            "colorbar": {
             "outlinewidth": 0,
             "ticks": ""
            },
            "colorscale": [
             [
              0,
              "#0d0887"
             ],
             [
              0.1111111111111111,
              "#46039f"
             ],
             [
              0.2222222222222222,
              "#7201a8"
             ],
             [
              0.3333333333333333,
              "#9c179e"
             ],
             [
              0.4444444444444444,
              "#bd3786"
             ],
             [
              0.5555555555555556,
              "#d8576b"
             ],
             [
              0.6666666666666666,
              "#ed7953"
             ],
             [
              0.7777777777777778,
              "#fb9f3a"
             ],
             [
              0.8888888888888888,
              "#fdca26"
             ],
             [
              1,
              "#f0f921"
             ]
            ],
            "type": "contour"
           }
          ],
          "contourcarpet": [
           {
            "colorbar": {
             "outlinewidth": 0,
             "ticks": ""
            },
            "type": "contourcarpet"
           }
          ],
          "heatmap": [
           {
            "colorbar": {
             "outlinewidth": 0,
             "ticks": ""
            },
            "colorscale": [
             [
              0,
              "#0d0887"
             ],
             [
              0.1111111111111111,
              "#46039f"
             ],
             [
              0.2222222222222222,
              "#7201a8"
             ],
             [
              0.3333333333333333,
              "#9c179e"
             ],
             [
              0.4444444444444444,
              "#bd3786"
             ],
             [
              0.5555555555555556,
              "#d8576b"
             ],
             [
              0.6666666666666666,
              "#ed7953"
             ],
             [
              0.7777777777777778,
              "#fb9f3a"
             ],
             [
              0.8888888888888888,
              "#fdca26"
             ],
             [
              1,
              "#f0f921"
             ]
            ],
            "type": "heatmap"
           }
          ],
          "heatmapgl": [
           {
            "colorbar": {
             "outlinewidth": 0,
             "ticks": ""
            },
            "colorscale": [
             [
              0,
              "#0d0887"
             ],
             [
              0.1111111111111111,
              "#46039f"
             ],
             [
              0.2222222222222222,
              "#7201a8"
             ],
             [
              0.3333333333333333,
              "#9c179e"
             ],
             [
              0.4444444444444444,
              "#bd3786"
             ],
             [
              0.5555555555555556,
              "#d8576b"
             ],
             [
              0.6666666666666666,
              "#ed7953"
             ],
             [
              0.7777777777777778,
              "#fb9f3a"
             ],
             [
              0.8888888888888888,
              "#fdca26"
             ],
             [
              1,
              "#f0f921"
             ]
            ],
            "type": "heatmapgl"
           }
          ],
          "histogram": [
           {
            "marker": {
             "pattern": {
              "fillmode": "overlay",
              "size": 10,
              "solidity": 0.2
             }
            },
            "type": "histogram"
           }
          ],
          "histogram2d": [
           {
            "colorbar": {
             "outlinewidth": 0,
             "ticks": ""
            },
            "colorscale": [
             [
              0,
              "#0d0887"
             ],
             [
              0.1111111111111111,
              "#46039f"
             ],
             [
              0.2222222222222222,
              "#7201a8"
             ],
             [
              0.3333333333333333,
              "#9c179e"
             ],
             [
              0.4444444444444444,
              "#bd3786"
             ],
             [
              0.5555555555555556,
              "#d8576b"
             ],
             [
              0.6666666666666666,
              "#ed7953"
             ],
             [
              0.7777777777777778,
              "#fb9f3a"
             ],
             [
              0.8888888888888888,
              "#fdca26"
             ],
             [
              1,
              "#f0f921"
             ]
            ],
            "type": "histogram2d"
           }
          ],
          "histogram2dcontour": [
           {
            "colorbar": {
             "outlinewidth": 0,
             "ticks": ""
            },
            "colorscale": [
             [
              0,
              "#0d0887"
             ],
             [
              0.1111111111111111,
              "#46039f"
             ],
             [
              0.2222222222222222,
              "#7201a8"
             ],
             [
              0.3333333333333333,
              "#9c179e"
             ],
             [
              0.4444444444444444,
              "#bd3786"
             ],
             [
              0.5555555555555556,
              "#d8576b"
             ],
             [
              0.6666666666666666,
              "#ed7953"
             ],
             [
              0.7777777777777778,
              "#fb9f3a"
             ],
             [
              0.8888888888888888,
              "#fdca26"
             ],
             [
              1,
              "#f0f921"
             ]
            ],
            "type": "histogram2dcontour"
           }
          ],
          "mesh3d": [
           {
            "colorbar": {
             "outlinewidth": 0,
             "ticks": ""
            },
            "type": "mesh3d"
           }
          ],
          "parcoords": [
           {
            "line": {
             "colorbar": {
              "outlinewidth": 0,
              "ticks": ""
             }
            },
            "type": "parcoords"
           }
          ],
          "pie": [
           {
            "automargin": true,
            "type": "pie"
           }
          ],
          "scatter": [
           {
            "fillpattern": {
             "fillmode": "overlay",
             "size": 10,
             "solidity": 0.2
            },
            "type": "scatter"
           }
          ],
          "scatter3d": [
           {
            "line": {
             "colorbar": {
              "outlinewidth": 0,
              "ticks": ""
             }
            },
            "marker": {
             "colorbar": {
              "outlinewidth": 0,
              "ticks": ""
             }
            },
            "type": "scatter3d"
           }
          ],
          "scattercarpet": [
           {
            "marker": {
             "colorbar": {
              "outlinewidth": 0,
              "ticks": ""
             }
            },
            "type": "scattercarpet"
           }
          ],
          "scattergeo": [
           {
            "marker": {
             "colorbar": {
              "outlinewidth": 0,
              "ticks": ""
             }
            },
            "type": "scattergeo"
           }
          ],
          "scattergl": [
           {
            "marker": {
             "colorbar": {
              "outlinewidth": 0,
              "ticks": ""
             }
            },
            "type": "scattergl"
           }
          ],
          "scattermapbox": [
           {
            "marker": {
             "colorbar": {
              "outlinewidth": 0,
              "ticks": ""
             }
            },
            "type": "scattermapbox"
           }
          ],
          "scatterpolar": [
           {
            "marker": {
             "colorbar": {
              "outlinewidth": 0,
              "ticks": ""
             }
            },
            "type": "scatterpolar"
           }
          ],
          "scatterpolargl": [
           {
            "marker": {
             "colorbar": {
              "outlinewidth": 0,
              "ticks": ""
             }
            },
            "type": "scatterpolargl"
           }
          ],
          "scatterternary": [
           {
            "marker": {
             "colorbar": {
              "outlinewidth": 0,
              "ticks": ""
             }
            },
            "type": "scatterternary"
           }
          ],
          "surface": [
           {
            "colorbar": {
             "outlinewidth": 0,
             "ticks": ""
            },
            "colorscale": [
             [
              0,
              "#0d0887"
             ],
             [
              0.1111111111111111,
              "#46039f"
             ],
             [
              0.2222222222222222,
              "#7201a8"
             ],
             [
              0.3333333333333333,
              "#9c179e"
             ],
             [
              0.4444444444444444,
              "#bd3786"
             ],
             [
              0.5555555555555556,
              "#d8576b"
             ],
             [
              0.6666666666666666,
              "#ed7953"
             ],
             [
              0.7777777777777778,
              "#fb9f3a"
             ],
             [
              0.8888888888888888,
              "#fdca26"
             ],
             [
              1,
              "#f0f921"
             ]
            ],
            "type": "surface"
           }
          ],
          "table": [
           {
            "cells": {
             "fill": {
              "color": "#EBF0F8"
             },
             "line": {
              "color": "white"
             }
            },
            "header": {
             "fill": {
              "color": "#C8D4E3"
             },
             "line": {
              "color": "white"
             }
            },
            "type": "table"
           }
          ]
         },
         "layout": {
          "annotationdefaults": {
           "arrowcolor": "#2a3f5f",
           "arrowhead": 0,
           "arrowwidth": 1
          },
          "autotypenumbers": "strict",
          "coloraxis": {
           "colorbar": {
            "outlinewidth": 0,
            "ticks": ""
           }
          },
          "colorscale": {
           "diverging": [
            [
             0,
             "#8e0152"
            ],
            [
             0.1,
             "#c51b7d"
            ],
            [
             0.2,
             "#de77ae"
            ],
            [
             0.3,
             "#f1b6da"
            ],
            [
             0.4,
             "#fde0ef"
            ],
            [
             0.5,
             "#f7f7f7"
            ],
            [
             0.6,
             "#e6f5d0"
            ],
            [
             0.7,
             "#b8e186"
            ],
            [
             0.8,
             "#7fbc41"
            ],
            [
             0.9,
             "#4d9221"
            ],
            [
             1,
             "#276419"
            ]
           ],
           "sequential": [
            [
             0,
             "#0d0887"
            ],
            [
             0.1111111111111111,
             "#46039f"
            ],
            [
             0.2222222222222222,
             "#7201a8"
            ],
            [
             0.3333333333333333,
             "#9c179e"
            ],
            [
             0.4444444444444444,
             "#bd3786"
            ],
            [
             0.5555555555555556,
             "#d8576b"
            ],
            [
             0.6666666666666666,
             "#ed7953"
            ],
            [
             0.7777777777777778,
             "#fb9f3a"
            ],
            [
             0.8888888888888888,
             "#fdca26"
            ],
            [
             1,
             "#f0f921"
            ]
           ],
           "sequentialminus": [
            [
             0,
             "#0d0887"
            ],
            [
             0.1111111111111111,
             "#46039f"
            ],
            [
             0.2222222222222222,
             "#7201a8"
            ],
            [
             0.3333333333333333,
             "#9c179e"
            ],
            [
             0.4444444444444444,
             "#bd3786"
            ],
            [
             0.5555555555555556,
             "#d8576b"
            ],
            [
             0.6666666666666666,
             "#ed7953"
            ],
            [
             0.7777777777777778,
             "#fb9f3a"
            ],
            [
             0.8888888888888888,
             "#fdca26"
            ],
            [
             1,
             "#f0f921"
            ]
           ]
          },
          "colorway": [
           "#636efa",
           "#EF553B",
           "#00cc96",
           "#ab63fa",
           "#FFA15A",
           "#19d3f3",
           "#FF6692",
           "#B6E880",
           "#FF97FF",
           "#FECB52"
          ],
          "font": {
           "color": "#2a3f5f"
          },
          "geo": {
           "bgcolor": "white",
           "lakecolor": "white",
           "landcolor": "white",
           "showlakes": true,
           "showland": true,
           "subunitcolor": "#C8D4E3"
          },
          "hoverlabel": {
           "align": "left"
          },
          "hovermode": "closest",
          "mapbox": {
           "style": "light"
          },
          "paper_bgcolor": "white",
          "plot_bgcolor": "white",
          "polar": {
           "angularaxis": {
            "gridcolor": "#EBF0F8",
            "linecolor": "#EBF0F8",
            "ticks": ""
           },
           "bgcolor": "white",
           "radialaxis": {
            "gridcolor": "#EBF0F8",
            "linecolor": "#EBF0F8",
            "ticks": ""
           }
          },
          "scene": {
           "xaxis": {
            "backgroundcolor": "white",
            "gridcolor": "#DFE8F3",
            "gridwidth": 2,
            "linecolor": "#EBF0F8",
            "showbackground": true,
            "ticks": "",
            "zerolinecolor": "#EBF0F8"
           },
           "yaxis": {
            "backgroundcolor": "white",
            "gridcolor": "#DFE8F3",
            "gridwidth": 2,
            "linecolor": "#EBF0F8",
            "showbackground": true,
            "ticks": "",
            "zerolinecolor": "#EBF0F8"
           },
           "zaxis": {
            "backgroundcolor": "white",
            "gridcolor": "#DFE8F3",
            "gridwidth": 2,
            "linecolor": "#EBF0F8",
            "showbackground": true,
            "ticks": "",
            "zerolinecolor": "#EBF0F8"
           }
          },
          "shapedefaults": {
           "line": {
            "color": "#2a3f5f"
           }
          },
          "ternary": {
           "aaxis": {
            "gridcolor": "#DFE8F3",
            "linecolor": "#A2B1C6",
            "ticks": ""
           },
           "baxis": {
            "gridcolor": "#DFE8F3",
            "linecolor": "#A2B1C6",
            "ticks": ""
           },
           "bgcolor": "white",
           "caxis": {
            "gridcolor": "#DFE8F3",
            "linecolor": "#A2B1C6",
            "ticks": ""
           }
          },
          "title": {
           "x": 0.05
          },
          "xaxis": {
           "automargin": true,
           "gridcolor": "#EBF0F8",
           "linecolor": "#EBF0F8",
           "ticks": "",
           "title": {
            "standoff": 15
           },
           "zerolinecolor": "#EBF0F8",
           "zerolinewidth": 2
          },
          "yaxis": {
           "automargin": true,
           "gridcolor": "#EBF0F8",
           "linecolor": "#EBF0F8",
           "ticks": "",
           "title": {
            "standoff": 15
           },
           "zerolinecolor": "#EBF0F8",
           "zerolinewidth": 2
          }
         }
        },
        "title": {
         "text": "Top 10 repos"
        },
        "width": 600,
        "xaxis": {
         "showgrid": false,
         "showticklabels": false
        },
        "yaxis": {
         "categoryorder": "total ascending"
        }
       }
      }
     },
     "metadata": {},
     "output_type": "display_data"
    }
   ],
   "source": [
    "\n",
    "# Top 10\n",
    "title = 'Top 10 repos'\n",
    "\n",
    "pos = None\n",
    "if len(df_top[df_top.repo == search_repo]) > 0:\n",
    "    pos = df_top[df_top.repo == search_repo].index[0]\n",
    "    colors[pos] = px.colors.qualitative.Plotly[1]\n",
    "# else:\n",
    "#     pos = 10\n",
    "\n",
    "colors = [px.colors.qualitative.Plotly[0]] * len(df_top)\n",
    "\n",
    "\n",
    "fig = go.Figure(data=[go.Bar(\n",
    "            x=df_top.stars, y=df_top.repo,\n",
    "            text=df_top.stars,\n",
    "            textposition='auto',\n",
    "            orientation='h',\n",
    "        )])\n",
    "\n",
    "fig.update_traces(texttemplate='%{text:.2s}', marker_color=colors)\n",
    "fig.update_xaxes(showticklabels=False, showgrid=False)\n",
    "fig.update_layout(width=600, yaxis={'categoryorder':'total ascending'}, title=title)\n",
    "\n",
    "fig.show()"
   ]
  },
  {
   "cell_type": "code",
   "execution_count": 206,
   "metadata": {},
   "outputs": [
    {
     "data": {
      "text/plain": [
       "['#636EFA',\n",
       " '#636EFA',\n",
       " '#EF553B',\n",
       " '#636EFA',\n",
       " '#636EFA',\n",
       " '#636EFA',\n",
       " '#636EFA',\n",
       " '#636EFA',\n",
       " '#636EFA',\n",
       " '#636EFA']"
      ]
     },
     "execution_count": 206,
     "metadata": {},
     "output_type": "execute_result"
    }
   ],
   "source": [
    "colors"
   ]
  },
  {
   "cell_type": "code",
   "execution_count": 247,
   "metadata": {},
   "outputs": [
    {
     "data": {
      "text/html": [
       "<div>\n",
       "<style scoped>\n",
       "    .dataframe tbody tr th:only-of-type {\n",
       "        vertical-align: middle;\n",
       "    }\n",
       "\n",
       "    .dataframe tbody tr th {\n",
       "        vertical-align: top;\n",
       "    }\n",
       "\n",
       "    .dataframe thead th {\n",
       "        text-align: right;\n",
       "    }\n",
       "</style>\n",
       "<table border=\"1\" class=\"dataframe\">\n",
       "  <thead>\n",
       "    <tr style=\"text-align: right;\">\n",
       "      <th></th>\n",
       "      <th>date</th>\n",
       "      <th>stars</th>\n",
       "      <th>repo</th>\n",
       "    </tr>\n",
       "  </thead>\n",
       "  <tbody>\n",
       "    <tr>\n",
       "      <th>0</th>\n",
       "      <td>2023-06-26</td>\n",
       "      <td>0</td>\n",
       "      <td>ollama</td>\n",
       "    </tr>\n",
       "    <tr>\n",
       "      <th>1</th>\n",
       "      <td>2023-02-27</td>\n",
       "      <td>0</td>\n",
       "      <td>semantic-kernel</td>\n",
       "    </tr>\n",
       "    <tr>\n",
       "      <th>2</th>\n",
       "      <td>2024-02-17</td>\n",
       "      <td>37761</td>\n",
       "      <td>ollama</td>\n",
       "    </tr>\n",
       "    <tr>\n",
       "      <th>3</th>\n",
       "      <td>2024-02-17</td>\n",
       "      <td>16770</td>\n",
       "      <td>semantic-kernel</td>\n",
       "    </tr>\n",
       "  </tbody>\n",
       "</table>\n",
       "</div>"
      ],
      "text/plain": [
       "         date  stars             repo\n",
       "0  2023-06-26      0           ollama\n",
       "1  2023-02-27      0  semantic-kernel\n",
       "2  2024-02-17  37761           ollama\n",
       "3  2024-02-17  16770  semantic-kernel"
      ]
     },
     "execution_count": 247,
     "metadata": {},
     "output_type": "execute_result"
    }
   ],
   "source": [
    "\n",
    "\n",
    "r1_repo = df_top.iloc[0]\n",
    "\n",
    "\n",
    "today = datetime.date.today()\n",
    "\n",
    "data1 = np.array([\n",
    "[r1_repo.created_at, 0, r1_repo.repo],\n",
    "[r2_created_at, 0, r2_repo_name],\n",
    "[today, r1_repo.stars, r1_repo.repo],\n",
    "[today, r2_stars, r2_repo_name]])\n",
    "\n",
    "\n",
    "\n",
    "df_trend = pd.DataFrame(data=data1, columns=['date', 'stars', 'repo'])\n",
    "df_trend"
   ]
  },
  {
   "cell_type": "code",
   "execution_count": 275,
   "metadata": {},
   "outputs": [
    {
     "data": {
      "application/vnd.plotly.v1+json": {
       "config": {
        "plotlyServerURL": "https://plot.ly"
       },
       "data": [
        {
         "hovertemplate": "color=ollama<br>=%{y}<br>text=%{text}<extra></extra>",
         "legendgroup": "ollama",
         "line": {
          "color": "#636efa",
          "dash": "solid"
         },
         "marker": {
          "symbol": "circle"
         },
         "mode": "lines+markers+text",
         "name": "ollama",
         "orientation": "v",
         "showlegend": true,
         "text": [
          0,
          37761
         ],
         "textposition": "top center",
         "texttemplate": "%{text:.2~s}",
         "type": "scatter",
         "x": [
          "2023-06-26",
          "2024-02-17"
         ],
         "xaxis": "x",
         "y": [
          0,
          37761
         ],
         "yaxis": "y"
        },
        {
         "hovertemplate": "color=semantic-kernel<br>=%{y}<br>text=%{text}<extra></extra>",
         "legendgroup": "semantic-kernel",
         "line": {
          "color": "#EF553B",
          "dash": "solid"
         },
         "marker": {
          "symbol": "circle"
         },
         "mode": "lines+markers+text",
         "name": "semantic-kernel",
         "orientation": "v",
         "showlegend": true,
         "text": [
          0,
          16770
         ],
         "textposition": "top center",
         "texttemplate": "%{text:.2~s}",
         "type": "scatter",
         "x": [
          "2023-02-27",
          "2024-02-17"
         ],
         "xaxis": "x",
         "y": [
          0,
          16770
         ],
         "yaxis": "y"
        }
       ],
       "layout": {
        "legend": {
         "title": {
          "text": "color"
         },
         "tracegroupgap": 0
        },
        "margin": {
         "t": 60
        },
        "showlegend": false,
        "template": {
         "data": {
          "bar": [
           {
            "error_x": {
             "color": "#2a3f5f"
            },
            "error_y": {
             "color": "#2a3f5f"
            },
            "marker": {
             "line": {
              "color": "white",
              "width": 0.5
             },
             "pattern": {
              "fillmode": "overlay",
              "size": 10,
              "solidity": 0.2
             }
            },
            "type": "bar"
           }
          ],
          "barpolar": [
           {
            "marker": {
             "line": {
              "color": "white",
              "width": 0.5
             },
             "pattern": {
              "fillmode": "overlay",
              "size": 10,
              "solidity": 0.2
             }
            },
            "type": "barpolar"
           }
          ],
          "carpet": [
           {
            "aaxis": {
             "endlinecolor": "#2a3f5f",
             "gridcolor": "#C8D4E3",
             "linecolor": "#C8D4E3",
             "minorgridcolor": "#C8D4E3",
             "startlinecolor": "#2a3f5f"
            },
            "baxis": {
             "endlinecolor": "#2a3f5f",
             "gridcolor": "#C8D4E3",
             "linecolor": "#C8D4E3",
             "minorgridcolor": "#C8D4E3",
             "startlinecolor": "#2a3f5f"
            },
            "type": "carpet"
           }
          ],
          "choropleth": [
           {
            "colorbar": {
             "outlinewidth": 0,
             "ticks": ""
            },
            "type": "choropleth"
           }
          ],
          "contour": [
           {
            "colorbar": {
             "outlinewidth": 0,
             "ticks": ""
            },
            "colorscale": [
             [
              0,
              "#0d0887"
             ],
             [
              0.1111111111111111,
              "#46039f"
             ],
             [
              0.2222222222222222,
              "#7201a8"
             ],
             [
              0.3333333333333333,
              "#9c179e"
             ],
             [
              0.4444444444444444,
              "#bd3786"
             ],
             [
              0.5555555555555556,
              "#d8576b"
             ],
             [
              0.6666666666666666,
              "#ed7953"
             ],
             [
              0.7777777777777778,
              "#fb9f3a"
             ],
             [
              0.8888888888888888,
              "#fdca26"
             ],
             [
              1,
              "#f0f921"
             ]
            ],
            "type": "contour"
           }
          ],
          "contourcarpet": [
           {
            "colorbar": {
             "outlinewidth": 0,
             "ticks": ""
            },
            "type": "contourcarpet"
           }
          ],
          "heatmap": [
           {
            "colorbar": {
             "outlinewidth": 0,
             "ticks": ""
            },
            "colorscale": [
             [
              0,
              "#0d0887"
             ],
             [
              0.1111111111111111,
              "#46039f"
             ],
             [
              0.2222222222222222,
              "#7201a8"
             ],
             [
              0.3333333333333333,
              "#9c179e"
             ],
             [
              0.4444444444444444,
              "#bd3786"
             ],
             [
              0.5555555555555556,
              "#d8576b"
             ],
             [
              0.6666666666666666,
              "#ed7953"
             ],
             [
              0.7777777777777778,
              "#fb9f3a"
             ],
             [
              0.8888888888888888,
              "#fdca26"
             ],
             [
              1,
              "#f0f921"
             ]
            ],
            "type": "heatmap"
           }
          ],
          "heatmapgl": [
           {
            "colorbar": {
             "outlinewidth": 0,
             "ticks": ""
            },
            "colorscale": [
             [
              0,
              "#0d0887"
             ],
             [
              0.1111111111111111,
              "#46039f"
             ],
             [
              0.2222222222222222,
              "#7201a8"
             ],
             [
              0.3333333333333333,
              "#9c179e"
             ],
             [
              0.4444444444444444,
              "#bd3786"
             ],
             [
              0.5555555555555556,
              "#d8576b"
             ],
             [
              0.6666666666666666,
              "#ed7953"
             ],
             [
              0.7777777777777778,
              "#fb9f3a"
             ],
             [
              0.8888888888888888,
              "#fdca26"
             ],
             [
              1,
              "#f0f921"
             ]
            ],
            "type": "heatmapgl"
           }
          ],
          "histogram": [
           {
            "marker": {
             "pattern": {
              "fillmode": "overlay",
              "size": 10,
              "solidity": 0.2
             }
            },
            "type": "histogram"
           }
          ],
          "histogram2d": [
           {
            "colorbar": {
             "outlinewidth": 0,
             "ticks": ""
            },
            "colorscale": [
             [
              0,
              "#0d0887"
             ],
             [
              0.1111111111111111,
              "#46039f"
             ],
             [
              0.2222222222222222,
              "#7201a8"
             ],
             [
              0.3333333333333333,
              "#9c179e"
             ],
             [
              0.4444444444444444,
              "#bd3786"
             ],
             [
              0.5555555555555556,
              "#d8576b"
             ],
             [
              0.6666666666666666,
              "#ed7953"
             ],
             [
              0.7777777777777778,
              "#fb9f3a"
             ],
             [
              0.8888888888888888,
              "#fdca26"
             ],
             [
              1,
              "#f0f921"
             ]
            ],
            "type": "histogram2d"
           }
          ],
          "histogram2dcontour": [
           {
            "colorbar": {
             "outlinewidth": 0,
             "ticks": ""
            },
            "colorscale": [
             [
              0,
              "#0d0887"
             ],
             [
              0.1111111111111111,
              "#46039f"
             ],
             [
              0.2222222222222222,
              "#7201a8"
             ],
             [
              0.3333333333333333,
              "#9c179e"
             ],
             [
              0.4444444444444444,
              "#bd3786"
             ],
             [
              0.5555555555555556,
              "#d8576b"
             ],
             [
              0.6666666666666666,
              "#ed7953"
             ],
             [
              0.7777777777777778,
              "#fb9f3a"
             ],
             [
              0.8888888888888888,
              "#fdca26"
             ],
             [
              1,
              "#f0f921"
             ]
            ],
            "type": "histogram2dcontour"
           }
          ],
          "mesh3d": [
           {
            "colorbar": {
             "outlinewidth": 0,
             "ticks": ""
            },
            "type": "mesh3d"
           }
          ],
          "parcoords": [
           {
            "line": {
             "colorbar": {
              "outlinewidth": 0,
              "ticks": ""
             }
            },
            "type": "parcoords"
           }
          ],
          "pie": [
           {
            "automargin": true,
            "type": "pie"
           }
          ],
          "scatter": [
           {
            "fillpattern": {
             "fillmode": "overlay",
             "size": 10,
             "solidity": 0.2
            },
            "type": "scatter"
           }
          ],
          "scatter3d": [
           {
            "line": {
             "colorbar": {
              "outlinewidth": 0,
              "ticks": ""
             }
            },
            "marker": {
             "colorbar": {
              "outlinewidth": 0,
              "ticks": ""
             }
            },
            "type": "scatter3d"
           }
          ],
          "scattercarpet": [
           {
            "marker": {
             "colorbar": {
              "outlinewidth": 0,
              "ticks": ""
             }
            },
            "type": "scattercarpet"
           }
          ],
          "scattergeo": [
           {
            "marker": {
             "colorbar": {
              "outlinewidth": 0,
              "ticks": ""
             }
            },
            "type": "scattergeo"
           }
          ],
          "scattergl": [
           {
            "marker": {
             "colorbar": {
              "outlinewidth": 0,
              "ticks": ""
             }
            },
            "type": "scattergl"
           }
          ],
          "scattermapbox": [
           {
            "marker": {
             "colorbar": {
              "outlinewidth": 0,
              "ticks": ""
             }
            },
            "type": "scattermapbox"
           }
          ],
          "scatterpolar": [
           {
            "marker": {
             "colorbar": {
              "outlinewidth": 0,
              "ticks": ""
             }
            },
            "type": "scatterpolar"
           }
          ],
          "scatterpolargl": [
           {
            "marker": {
             "colorbar": {
              "outlinewidth": 0,
              "ticks": ""
             }
            },
            "type": "scatterpolargl"
           }
          ],
          "scatterternary": [
           {
            "marker": {
             "colorbar": {
              "outlinewidth": 0,
              "ticks": ""
             }
            },
            "type": "scatterternary"
           }
          ],
          "surface": [
           {
            "colorbar": {
             "outlinewidth": 0,
             "ticks": ""
            },
            "colorscale": [
             [
              0,
              "#0d0887"
             ],
             [
              0.1111111111111111,
              "#46039f"
             ],
             [
              0.2222222222222222,
              "#7201a8"
             ],
             [
              0.3333333333333333,
              "#9c179e"
             ],
             [
              0.4444444444444444,
              "#bd3786"
             ],
             [
              0.5555555555555556,
              "#d8576b"
             ],
             [
              0.6666666666666666,
              "#ed7953"
             ],
             [
              0.7777777777777778,
              "#fb9f3a"
             ],
             [
              0.8888888888888888,
              "#fdca26"
             ],
             [
              1,
              "#f0f921"
             ]
            ],
            "type": "surface"
           }
          ],
          "table": [
           {
            "cells": {
             "fill": {
              "color": "#EBF0F8"
             },
             "line": {
              "color": "white"
             }
            },
            "header": {
             "fill": {
              "color": "#C8D4E3"
             },
             "line": {
              "color": "white"
             }
            },
            "type": "table"
           }
          ]
         },
         "layout": {
          "annotationdefaults": {
           "arrowcolor": "#2a3f5f",
           "arrowhead": 0,
           "arrowwidth": 1
          },
          "autotypenumbers": "strict",
          "coloraxis": {
           "colorbar": {
            "outlinewidth": 0,
            "ticks": ""
           }
          },
          "colorscale": {
           "diverging": [
            [
             0,
             "#8e0152"
            ],
            [
             0.1,
             "#c51b7d"
            ],
            [
             0.2,
             "#de77ae"
            ],
            [
             0.3,
             "#f1b6da"
            ],
            [
             0.4,
             "#fde0ef"
            ],
            [
             0.5,
             "#f7f7f7"
            ],
            [
             0.6,
             "#e6f5d0"
            ],
            [
             0.7,
             "#b8e186"
            ],
            [
             0.8,
             "#7fbc41"
            ],
            [
             0.9,
             "#4d9221"
            ],
            [
             1,
             "#276419"
            ]
           ],
           "sequential": [
            [
             0,
             "#0d0887"
            ],
            [
             0.1111111111111111,
             "#46039f"
            ],
            [
             0.2222222222222222,
             "#7201a8"
            ],
            [
             0.3333333333333333,
             "#9c179e"
            ],
            [
             0.4444444444444444,
             "#bd3786"
            ],
            [
             0.5555555555555556,
             "#d8576b"
            ],
            [
             0.6666666666666666,
             "#ed7953"
            ],
            [
             0.7777777777777778,
             "#fb9f3a"
            ],
            [
             0.8888888888888888,
             "#fdca26"
            ],
            [
             1,
             "#f0f921"
            ]
           ],
           "sequentialminus": [
            [
             0,
             "#0d0887"
            ],
            [
             0.1111111111111111,
             "#46039f"
            ],
            [
             0.2222222222222222,
             "#7201a8"
            ],
            [
             0.3333333333333333,
             "#9c179e"
            ],
            [
             0.4444444444444444,
             "#bd3786"
            ],
            [
             0.5555555555555556,
             "#d8576b"
            ],
            [
             0.6666666666666666,
             "#ed7953"
            ],
            [
             0.7777777777777778,
             "#fb9f3a"
            ],
            [
             0.8888888888888888,
             "#fdca26"
            ],
            [
             1,
             "#f0f921"
            ]
           ]
          },
          "colorway": [
           "#636efa",
           "#EF553B",
           "#00cc96",
           "#ab63fa",
           "#FFA15A",
           "#19d3f3",
           "#FF6692",
           "#B6E880",
           "#FF97FF",
           "#FECB52"
          ],
          "font": {
           "color": "#2a3f5f"
          },
          "geo": {
           "bgcolor": "white",
           "lakecolor": "white",
           "landcolor": "white",
           "showlakes": true,
           "showland": true,
           "subunitcolor": "#C8D4E3"
          },
          "hoverlabel": {
           "align": "left"
          },
          "hovermode": "closest",
          "mapbox": {
           "style": "light"
          },
          "paper_bgcolor": "white",
          "plot_bgcolor": "white",
          "polar": {
           "angularaxis": {
            "gridcolor": "#EBF0F8",
            "linecolor": "#EBF0F8",
            "ticks": ""
           },
           "bgcolor": "white",
           "radialaxis": {
            "gridcolor": "#EBF0F8",
            "linecolor": "#EBF0F8",
            "ticks": ""
           }
          },
          "scene": {
           "xaxis": {
            "backgroundcolor": "white",
            "gridcolor": "#DFE8F3",
            "gridwidth": 2,
            "linecolor": "#EBF0F8",
            "showbackground": true,
            "ticks": "",
            "zerolinecolor": "#EBF0F8"
           },
           "yaxis": {
            "backgroundcolor": "white",
            "gridcolor": "#DFE8F3",
            "gridwidth": 2,
            "linecolor": "#EBF0F8",
            "showbackground": true,
            "ticks": "",
            "zerolinecolor": "#EBF0F8"
           },
           "zaxis": {
            "backgroundcolor": "white",
            "gridcolor": "#DFE8F3",
            "gridwidth": 2,
            "linecolor": "#EBF0F8",
            "showbackground": true,
            "ticks": "",
            "zerolinecolor": "#EBF0F8"
           }
          },
          "shapedefaults": {
           "line": {
            "color": "#2a3f5f"
           }
          },
          "ternary": {
           "aaxis": {
            "gridcolor": "#DFE8F3",
            "linecolor": "#A2B1C6",
            "ticks": ""
           },
           "baxis": {
            "gridcolor": "#DFE8F3",
            "linecolor": "#A2B1C6",
            "ticks": ""
           },
           "bgcolor": "white",
           "caxis": {
            "gridcolor": "#DFE8F3",
            "linecolor": "#A2B1C6",
            "ticks": ""
           }
          },
          "title": {
           "x": 0.05
          },
          "xaxis": {
           "automargin": true,
           "gridcolor": "#EBF0F8",
           "linecolor": "#EBF0F8",
           "ticks": "",
           "title": {
            "standoff": 15
           },
           "zerolinecolor": "#EBF0F8",
           "zerolinewidth": 2
          },
          "yaxis": {
           "automargin": true,
           "gridcolor": "#EBF0F8",
           "linecolor": "#EBF0F8",
           "ticks": "",
           "title": {
            "standoff": 15
           },
           "zerolinecolor": "#EBF0F8",
           "zerolinewidth": 2
          }
         }
        },
        "title": {
         "text": "semantic-kernel vs ollama"
        },
        "width": 600,
        "xaxis": {
         "anchor": "y",
         "domain": [
          0,
          1
         ],
         "showgrid": false,
         "tickmode": "array",
         "ticktext": [
          "ollama<br>created on<br>2023-06-26",
          "semantic-kernel<br>created on<br>2023-02-27",
          "today"
         ],
         "tickvals": [
          "2023-06-26",
          "2023-02-27",
          "2024-02-17"
         ],
         "title": {
          "text": ""
         }
        },
        "yaxis": {
         "anchor": "x",
         "domain": [
          0,
          1
         ],
         "showgrid": false,
         "showticklabels": false,
         "title": {
          "text": ""
         }
        }
       }
      }
     },
     "metadata": {},
     "output_type": "display_data"
    }
   ],
   "source": [
    "\n",
    "# history\n",
    "title=f'{r2_repo_name} vs {r1_repo.repo}'\n",
    "\n",
    "fig = px.line(df, x=df_trend.date, y=df_trend.stars, color=df_trend.repo, labels=dict(x='',y=''), markers=True, text=df_trend.stars,)\n",
    "fig.update_traces(textposition='top center', texttemplate='%{text:.2~s}')\n",
    "\n",
    "\n",
    "fig.update_layout(width=600, showlegend=False, title=title)\n",
    "    #                legend_title_text='',  \n",
    "    #                legend=dict(\n",
    "    # yanchor=\"top\",\n",
    "    # y=0.99,\n",
    "    # xanchor=\"left\",\n",
    "    # x=0.01)\n",
    "fig.update_xaxes(\n",
    "    showgrid=False,\n",
    "    tickmode = 'array',\n",
    "    ticktext=[f\"{r1_repo.repo}<br>created on<br>{r1_repo.created_at}\", \n",
    "              f\"{r2_repo_name}<br>created on<br>{r2_created_at}\", \n",
    "              \"today\"],\n",
    "    tickvals=[r1_repo.created_at, \n",
    "              r2_created_at, \n",
    "              today],\n",
    ")\n",
    "fig.update_yaxes(showticklabels=False,    showgrid=False)\n",
    "\n",
    "fig.show()\n"
   ]
  },
  {
   "cell_type": "code",
   "execution_count": null,
   "metadata": {},
   "outputs": [],
   "source": []
  }
 ],
 "metadata": {
  "kernelspec": {
   "display_name": "Python 3",
   "language": "python",
   "name": "python3"
  },
  "language_info": {
   "codemirror_mode": {
    "name": "ipython",
    "version": 3
   },
   "file_extension": ".py",
   "mimetype": "text/x-python",
   "name": "python",
   "nbconvert_exporter": "python",
   "pygments_lexer": "ipython3",
   "version": "3.11.7"
  }
 },
 "nbformat": 4,
 "nbformat_minor": 2
}
